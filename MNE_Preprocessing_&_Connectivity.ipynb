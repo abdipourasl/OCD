{
  "cells": [
    {
      "cell_type": "markdown",
      "metadata": {
        "id": "view-in-github",
        "colab_type": "text"
      },
      "source": [
        "<a href=\"https://colab.research.google.com/github/abdipourasl/OCD/blob/main/MNE_Preprocessing_%26_Connectivity.ipynb\" target=\"_parent\"><img src=\"https://colab.research.google.com/assets/colab-badge.svg\" alt=\"Open In Colab\"/></a>"
      ]
    },
    {
      "cell_type": "code",
      "execution_count": 122,
      "metadata": {
        "colab": {
          "base_uri": "https://localhost:8080/"
        },
        "id": "uo0oSLpWgzl6",
        "outputId": "84c7a209-9ec8-4b7d-81a0-aa8a32eb4cd6"
      },
      "outputs": [
        {
          "output_type": "stream",
          "name": "stdout",
          "text": [
            "Requirement already satisfied: mne in /usr/local/lib/python3.10/dist-packages (1.5.1)\n",
            "Requirement already satisfied: numpy>=1.15.4 in /usr/local/lib/python3.10/dist-packages (from mne) (1.23.5)\n",
            "Requirement already satisfied: scipy>=1.6.3 in /usr/local/lib/python3.10/dist-packages (from mne) (1.11.2)\n",
            "Requirement already satisfied: matplotlib>=3.4.0 in /usr/local/lib/python3.10/dist-packages (from mne) (3.7.1)\n",
            "Requirement already satisfied: tqdm in /usr/local/lib/python3.10/dist-packages (from mne) (4.66.1)\n",
            "Requirement already satisfied: pooch>=1.5 in /usr/local/lib/python3.10/dist-packages (from mne) (1.7.0)\n",
            "Requirement already satisfied: decorator in /usr/local/lib/python3.10/dist-packages (from mne) (4.4.2)\n",
            "Requirement already satisfied: packaging in /usr/local/lib/python3.10/dist-packages (from mne) (23.1)\n",
            "Requirement already satisfied: jinja2 in /usr/local/lib/python3.10/dist-packages (from mne) (3.1.2)\n",
            "Requirement already satisfied: contourpy>=1.0.1 in /usr/local/lib/python3.10/dist-packages (from matplotlib>=3.4.0->mne) (1.1.0)\n",
            "Requirement already satisfied: cycler>=0.10 in /usr/local/lib/python3.10/dist-packages (from matplotlib>=3.4.0->mne) (0.11.0)\n",
            "Requirement already satisfied: fonttools>=4.22.0 in /usr/local/lib/python3.10/dist-packages (from matplotlib>=3.4.0->mne) (4.42.1)\n",
            "Requirement already satisfied: kiwisolver>=1.0.1 in /usr/local/lib/python3.10/dist-packages (from matplotlib>=3.4.0->mne) (1.4.5)\n",
            "Requirement already satisfied: pillow>=6.2.0 in /usr/local/lib/python3.10/dist-packages (from matplotlib>=3.4.0->mne) (9.4.0)\n",
            "Requirement already satisfied: pyparsing>=2.3.1 in /usr/local/lib/python3.10/dist-packages (from matplotlib>=3.4.0->mne) (3.1.1)\n",
            "Requirement already satisfied: python-dateutil>=2.7 in /usr/local/lib/python3.10/dist-packages (from matplotlib>=3.4.0->mne) (2.8.2)\n",
            "Requirement already satisfied: platformdirs>=2.5.0 in /usr/local/lib/python3.10/dist-packages (from pooch>=1.5->mne) (3.10.0)\n",
            "Requirement already satisfied: requests>=2.19.0 in /usr/local/lib/python3.10/dist-packages (from pooch>=1.5->mne) (2.31.0)\n",
            "Requirement already satisfied: MarkupSafe>=2.0 in /usr/local/lib/python3.10/dist-packages (from jinja2->mne) (2.1.3)\n",
            "Requirement already satisfied: six>=1.5 in /usr/local/lib/python3.10/dist-packages (from python-dateutil>=2.7->matplotlib>=3.4.0->mne) (1.16.0)\n",
            "Requirement already satisfied: charset-normalizer<4,>=2 in /usr/local/lib/python3.10/dist-packages (from requests>=2.19.0->pooch>=1.5->mne) (3.2.0)\n",
            "Requirement already satisfied: idna<4,>=2.5 in /usr/local/lib/python3.10/dist-packages (from requests>=2.19.0->pooch>=1.5->mne) (3.4)\n",
            "Requirement already satisfied: urllib3<3,>=1.21.1 in /usr/local/lib/python3.10/dist-packages (from requests>=2.19.0->pooch>=1.5->mne) (2.0.4)\n",
            "Requirement already satisfied: certifi>=2017.4.17 in /usr/local/lib/python3.10/dist-packages (from requests>=2.19.0->pooch>=1.5->mne) (2023.7.22)\n",
            "Drive already mounted at /content/drive; to attempt to forcibly remount, call drive.mount(\"/content/drive\", force_remount=True).\n",
            "Requirement already satisfied: mne-connectivity in /usr/local/lib/python3.10/dist-packages (0.5.0)\n",
            "Requirement already satisfied: numpy in /usr/local/lib/python3.10/dist-packages (from mne-connectivity) (1.23.5)\n",
            "Requirement already satisfied: scipy in /usr/local/lib/python3.10/dist-packages (from mne-connectivity) (1.11.2)\n",
            "Requirement already satisfied: mne in /usr/local/lib/python3.10/dist-packages (from mne-connectivity) (1.5.1)\n",
            "Requirement already satisfied: xarray in /usr/local/lib/python3.10/dist-packages (from mne-connectivity) (2023.7.0)\n",
            "Requirement already satisfied: netCDF4 in /usr/local/lib/python3.10/dist-packages (from mne-connectivity) (1.6.4)\n",
            "Requirement already satisfied: pandas in /usr/local/lib/python3.10/dist-packages (from mne-connectivity) (1.5.3)\n",
            "Requirement already satisfied: tqdm in /usr/local/lib/python3.10/dist-packages (from mne-connectivity) (4.66.1)\n",
            "Requirement already satisfied: matplotlib>=3.4.0 in /usr/local/lib/python3.10/dist-packages (from mne->mne-connectivity) (3.7.1)\n",
            "Requirement already satisfied: pooch>=1.5 in /usr/local/lib/python3.10/dist-packages (from mne->mne-connectivity) (1.7.0)\n",
            "Requirement already satisfied: decorator in /usr/local/lib/python3.10/dist-packages (from mne->mne-connectivity) (4.4.2)\n",
            "Requirement already satisfied: packaging in /usr/local/lib/python3.10/dist-packages (from mne->mne-connectivity) (23.1)\n",
            "Requirement already satisfied: jinja2 in /usr/local/lib/python3.10/dist-packages (from mne->mne-connectivity) (3.1.2)\n",
            "Requirement already satisfied: cftime in /usr/local/lib/python3.10/dist-packages (from netCDF4->mne-connectivity) (1.6.2)\n",
            "Requirement already satisfied: certifi in /usr/local/lib/python3.10/dist-packages (from netCDF4->mne-connectivity) (2023.7.22)\n",
            "Requirement already satisfied: python-dateutil>=2.8.1 in /usr/local/lib/python3.10/dist-packages (from pandas->mne-connectivity) (2.8.2)\n",
            "Requirement already satisfied: pytz>=2020.1 in /usr/local/lib/python3.10/dist-packages (from pandas->mne-connectivity) (2023.3.post1)\n",
            "Requirement already satisfied: contourpy>=1.0.1 in /usr/local/lib/python3.10/dist-packages (from matplotlib>=3.4.0->mne->mne-connectivity) (1.1.0)\n",
            "Requirement already satisfied: cycler>=0.10 in /usr/local/lib/python3.10/dist-packages (from matplotlib>=3.4.0->mne->mne-connectivity) (0.11.0)\n",
            "Requirement already satisfied: fonttools>=4.22.0 in /usr/local/lib/python3.10/dist-packages (from matplotlib>=3.4.0->mne->mne-connectivity) (4.42.1)\n",
            "Requirement already satisfied: kiwisolver>=1.0.1 in /usr/local/lib/python3.10/dist-packages (from matplotlib>=3.4.0->mne->mne-connectivity) (1.4.5)\n",
            "Requirement already satisfied: pillow>=6.2.0 in /usr/local/lib/python3.10/dist-packages (from matplotlib>=3.4.0->mne->mne-connectivity) (9.4.0)\n",
            "Requirement already satisfied: pyparsing>=2.3.1 in /usr/local/lib/python3.10/dist-packages (from matplotlib>=3.4.0->mne->mne-connectivity) (3.1.1)\n",
            "Requirement already satisfied: platformdirs>=2.5.0 in /usr/local/lib/python3.10/dist-packages (from pooch>=1.5->mne->mne-connectivity) (3.10.0)\n",
            "Requirement already satisfied: requests>=2.19.0 in /usr/local/lib/python3.10/dist-packages (from pooch>=1.5->mne->mne-connectivity) (2.31.0)\n",
            "Requirement already satisfied: six>=1.5 in /usr/local/lib/python3.10/dist-packages (from python-dateutil>=2.8.1->pandas->mne-connectivity) (1.16.0)\n",
            "Requirement already satisfied: MarkupSafe>=2.0 in /usr/local/lib/python3.10/dist-packages (from jinja2->mne->mne-connectivity) (2.1.3)\n",
            "Requirement already satisfied: charset-normalizer<4,>=2 in /usr/local/lib/python3.10/dist-packages (from requests>=2.19.0->pooch>=1.5->mne->mne-connectivity) (3.2.0)\n",
            "Requirement already satisfied: idna<4,>=2.5 in /usr/local/lib/python3.10/dist-packages (from requests>=2.19.0->pooch>=1.5->mne->mne-connectivity) (3.4)\n",
            "Requirement already satisfied: urllib3<3,>=1.21.1 in /usr/local/lib/python3.10/dist-packages (from requests>=2.19.0->pooch>=1.5->mne->mne-connectivity) (2.0.4)\n"
          ]
        }
      ],
      "source": [
        "import tensorflow as tf\n",
        "import os\n",
        "import cv2\n",
        "import imghdr\n",
        "from google.colab import drive\n",
        "%matplotlib inline\n",
        "import os\n",
        "import os.path as op\n",
        "!pip install mne\n",
        "import mne\n",
        "import numpy as np\n",
        "import pandas as pd\n",
        "drive.mount('/content/drive')\n",
        "os.chdir('/content/drive/My Drive/')\n",
        "data_dir= '/content/drive/My Drive/'\n",
        "!pip install -U mne-connectivity\n",
        "import mne_connectivity\n",
        "!pip install asrpy -q\n",
        "from asrpy import ASR"
      ]
    },
    {
      "cell_type": "markdown",
      "metadata": {
        "id": "lQPNR08rglpt"
      },
      "source": [
        "<div class=\"alert alert-block alert-success\">\n",
        "<h1>EEG Preprocessing with MNE</h1>\n",
        "</div>"
      ]
    },
    {
      "cell_type": "markdown",
      "metadata": {
        "id": "WDdJFcJpglpw"
      },
      "source": [
        "### 1. Importing Raw  Data"
      ]
    },
    {
      "cell_type": "code",
      "source": [
        "os.chdir('/content/drive/My Drive/data')\n",
        "os.listdir('/content/drive/My Drive/data')\n"
      ],
      "metadata": {
        "colab": {
          "base_uri": "https://localhost:8080/"
        },
        "id": "K76ifsQGz_Wx",
        "outputId": "7ab7ebef-903e-4e6c-d444-692d3d425492"
      },
      "execution_count": 123,
      "outputs": [
        {
          "output_type": "execute_result",
          "data": {
            "text/plain": [
              "['NC', 'OCD']"
            ]
          },
          "metadata": {},
          "execution_count": 123
        }
      ]
    },
    {
      "cell_type": "code",
      "source": [
        "data_dir= '/content/drive/My Drive/data'\n",
        "data_dir1 = os.path.join(data_dir,'OCD')\n",
        "data_dir2 = os.path.join(data_dir,'NC')\n",
        "list1 = os.listdir(data_dir1)\n",
        "list2 = os.listdir(data_dir2)\n",
        "list1"
      ],
      "metadata": {
        "colab": {
          "base_uri": "https://localhost:8080/"
        },
        "id": "OX-Hd7080-6k",
        "outputId": "2054218d-68e6-449f-b667-d6f0371c618b"
      },
      "execution_count": 124,
      "outputs": [
        {
          "output_type": "execute_result",
          "data": {
            "text/plain": [
              "['OCD_subj16.EDF',\n",
              " 'OCD_subj15.EDF',\n",
              " 'OCD_subj14.EDF',\n",
              " 'OCD_subj13.EDF',\n",
              " 'OCD_subj12.EDF',\n",
              " 'OCD_subj11.EDF',\n",
              " 'OCD_subj10.EDF',\n",
              " 'OCD_subj1.EDF',\n",
              " 'OCD_subj24.EDF',\n",
              " 'OCD_subj23.EDF',\n",
              " 'OCD_subj22.EDF',\n",
              " 'OCD_subj21.EDF',\n",
              " 'OCD_subj20.EDF',\n",
              " 'OCD_subj2.EDF',\n",
              " 'OCD_subj19.EDF',\n",
              " 'OCD_subj18.EDF',\n",
              " 'OCD_subj17.EDF',\n",
              " 'OCD_subj33.EDF',\n",
              " 'OCD_subj32.EDF',\n",
              " 'OCD_subj31.EDF',\n",
              " 'OCD_subj30.EDF',\n",
              " 'OCD_subj3.EDF',\n",
              " 'OCD_subj29.EDF',\n",
              " 'OCD_subj28.EDF',\n",
              " 'OCD_subj27.EDF',\n",
              " 'OCD_subj26.EDF',\n",
              " 'OCD_subj25.EDF',\n",
              " 'OCD_subj41.EDF',\n",
              " 'OCD_subj40.EDF',\n",
              " 'OCD_subj4.EDF',\n",
              " 'OCD_subj39.EDF',\n",
              " 'OCD_subj38.EDF',\n",
              " 'OCD_subj37.EDF',\n",
              " 'OCD_subj36.EDF',\n",
              " 'OCD_subj35.EDF',\n",
              " 'OCD_subj34.EDF',\n",
              " 'OCD_subj45.EDF',\n",
              " 'OCD_subj44.EDF',\n",
              " 'OCD_subj43.EDF',\n",
              " 'OCD_subj42.EDF',\n",
              " 'OCD_subj8.EDF',\n",
              " 'OCD_subj7.EDF',\n",
              " 'OCD_subj6.EDF',\n",
              " 'OCD_subj5.EDF',\n",
              " 'OCD_subj46.EDF',\n",
              " 'OCD_subj9.EDF']"
            ]
          },
          "metadata": {},
          "execution_count": 124
        }
      ]
    },
    {
      "cell_type": "code",
      "execution_count": 125,
      "metadata": {
        "id": "c33rggLbglpx",
        "colab": {
          "base_uri": "https://localhost:8080/"
        },
        "outputId": "e0419ab3-5699-438a-bcfe-9eebc178ec07"
      },
      "outputs": [
        {
          "output_type": "stream",
          "name": "stdout",
          "text": [
            "Extracting EDF parameters from /content/drive/My Drive/OCD_subj46.EDF...\n",
            "EDF file detected\n",
            "Setting channel info structure...\n",
            "Creating raw.info structure...\n",
            "<RawEDF | OCD_subj46.EDF, 23 x 165500 (331.0 s), ~27 kB, data not loaded>\n"
          ]
        }
      ],
      "source": [
        "raw = mne.io.read_raw_edf(os.path.join('/content/drive/My Drive/','OCD_subj46.EDF'))                                                         # Loading continuous data\n",
        "print(raw)"
      ]
    },
    {
      "cell_type": "code",
      "source": [
        "for i in range(1,2):\n",
        "  name_dire = f'OCD_subj{i}.EDF'\n",
        "  raw = mne.io.read_raw_edf(os.path.join(data_dir1,name_dire))\n",
        "  raw.crop(tmin=5., tmax=50.)\n",
        "  raw.resample(250, npad=\"auto\")    # set sampling frequency to 256 points per second\n",
        "  raw.pick_channels(['Fp1','Fp2','F7','F3','F4','F8','T3','C3','C4','T4','T5','P3','P4','T6','O1','O2','Fz','Cz','Pz'],ordered=True)\n",
        "  print(raw.info[\"ch_names\"])\n",
        "  print(raw.info[\"ch_names\"])\n",
        "  raw.set_eeg_reference('average', projection=True).apply_proj()  # re-referencing with the virtual average reference\n",
        "  asr = ASR(sfreq=raw.info[\"sfreq\"], cutoff=5)\n",
        "  asr.fit(raw)\n",
        "  raw._data = asr.transform(raw)\n",
        "  raw._data.filter(1, 30, fir_design='firwin', picks=['eeg'])  # band-pass filter from 1 to 30 frequency over just\n",
        "                                                       # EEG channel and not EEG channel\n",
        "  raw._data.notch_filter(freqs=[16.667, 50]); # bandstop the train and power grid\n",
        "  raw._data.plot_psd(fmax=100);\n",
        "  epochs = mne.make_fixed_length_epochs(raw._data, duration=4.0, preload=False, reject_by_annotation=False, proj=False, overlap=2, id=1, verbose=None)\n",
        "  event_related_plot = epochs.plot_image()\n",
        "  epochs.get_data()\n",
        "  #alpha_plv=mne_connectivity.spectral_connectivity_time(epochs.get_data(), freqs=None, method='plv', average=False, indices=None, sfreq=raw.info[\"sfreq\"], fmin=8., fmax=12., fskip=0, faverage=False, sm_times=0, sm_freqs=1)\n",
        "  #print(alpha_plv.shape)\n",
        "  #type(alpha_plv)\n",
        "  con = np.zeros((21, 361, 7))\n",
        "  for x in range(21):\n",
        "    a = mne_connectivity.spectral_connectivity_epochs(epochs[x], names=None, method='plv', indices=None, sfreq=raw.info[\"sfreq\"], mode='multitaper', fmin=(0.5,4.,8.,12.,20.,30.,1.), fmax=(4.,8.,12.,20.,30.,40,40.), fskip=0, faverage=True, tmin=0.0, tmax=None, mt_bandwidth=None, mt_adaptive=False, mt_low_bias=True, cwt_freqs=None, cwt_n_cycles=7, block_size=1000, n_jobs=1, verbose=None)\n",
        "    b = mne_connectivity.EpochSpectralConnectivity.get_data(a)\n",
        "\n",
        "\n",
        "    con[x, :, :] = b\n",
        "\n",
        "  #print(con.shape)\n",
        "  #type(con)\n"
      ],
      "metadata": {
        "id": "YbR23R4_5kpd"
      },
      "execution_count": null,
      "outputs": []
    },
    {
      "cell_type": "code",
      "source": [
        "print(con.shape)\n",
        "type(con)"
      ],
      "metadata": {
        "id": "gBHsrE1j-66p",
        "outputId": "114cd1b0-6721-4d0d-ce13-40a9e41bf414",
        "colab": {
          "base_uri": "https://localhost:8080/"
        }
      },
      "execution_count": 138,
      "outputs": [
        {
          "output_type": "stream",
          "name": "stdout",
          "text": [
            "(21, 361, 7)\n"
          ]
        },
        {
          "output_type": "execute_result",
          "data": {
            "text/plain": [
              "numpy.ndarray"
            ]
          },
          "metadata": {},
          "execution_count": 138
        }
      ]
    },
    {
      "cell_type": "code",
      "source": [
        "#alpha_plv=mne_connectivity.spectral_connectivity_time(epochs.get_data(), freqs=None, method='plv', average=False, indices=None, sfreq=raw.info[\"sfreq\"], fmin=8., fmax=12., fskip=0, faverage=False, sm_times=0, sm_freqs=1)\n",
        "#print(alpha_plv.shape)\n",
        "#type(alpha_plv)\n",
        "con = np.zeros((21, 361, 7))\n",
        "for x in range(21):\n",
        "  a = mne_connectivity.spectral_connectivity_epochs(epochs[x], names=None, method='plv', indices=None, sfreq=raw.info[\"sfreq\"], mode='multitaper', fmin=(0.5,4.,8.,12.,20.,30.,1.), fmax=(4.,8.,12.,20.,30.,40,40.), fskip=0, faverage=True, tmin=0.0, tmax=None, mt_bandwidth=None, mt_adaptive=False, mt_low_bias=True, cwt_freqs=None, cwt_n_cycles=7, block_size=1000, n_jobs=1, verbose=None)\n",
        "  b = mne_connectivity.EpochSpectralConnectivity.get_data(a)\n",
        "\n",
        "  print(x)\n",
        "  print(b.shape)\n",
        "  con[0, :, :] = b\n",
        "\n",
        "print(con.shape)\n",
        "type(con)\n"
      ],
      "metadata": {
        "id": "ibBkezNk9JwH"
      },
      "execution_count": null,
      "outputs": []
    },
    {
      "cell_type": "code",
      "source": [
        "#alpha_plv = mne_connectivity.EpochSpectralConnectivity.get_data(alpha_plv)\n",
        "print(con.shape)\n",
        "type(con)"
      ],
      "metadata": {
        "id": "hkuqbp0O2Plq"
      },
      "execution_count": null,
      "outputs": []
    },
    {
      "cell_type": "markdown",
      "source": [
        "3rd Dimention:\n",
        "1: Delta\n",
        "2: Theta\n",
        "3: Alpha\n",
        "4: Beta1\n",
        "5: Beta2\n",
        "6: Gamma\n",
        "7: Full Band"
      ],
      "metadata": {
        "id": "OQLI9ActwE64"
      }
    },
    {
      "cell_type": "code",
      "source": [
        "alpha_plv2 = alpha_plv.mean(1)\n",
        "print(alpha_plv2.shape)\n",
        "type(alpha_plv2)"
      ],
      "metadata": {
        "id": "u6Sm8m1oG2H-"
      },
      "execution_count": null,
      "outputs": []
    }
  ],
  "metadata": {
    "colab": {
      "provenance": [],
      "include_colab_link": true
    },
    "kernelspec": {
      "display_name": "Python 3",
      "language": "python",
      "name": "python3"
    },
    "language_info": {
      "codemirror_mode": {
        "name": "ipython",
        "version": 3
      },
      "file_extension": ".py",
      "mimetype": "text/x-python",
      "name": "python",
      "nbconvert_exporter": "python",
      "pygments_lexer": "ipython3",
      "version": "3.7.4"
    }
  },
  "nbformat": 4,
  "nbformat_minor": 0
}