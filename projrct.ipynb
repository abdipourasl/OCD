{
  "cells": [
    {
      "cell_type": "markdown",
      "metadata": {
        "id": "view-in-github",
        "colab_type": "text"
      },
      "source": [
        "<a href=\"https://colab.research.google.com/github/abdipourasl/CNN---Scalogram/blob/main/projrct.ipynb\" target=\"_parent\"><img src=\"https://colab.research.google.com/assets/colab-badge.svg\" alt=\"Open In Colab\"/></a>"
      ]
    },
    {
      "cell_type": "code",
      "execution_count": 60,
      "metadata": {
        "colab": {
          "base_uri": "https://localhost:8080/"
        },
        "id": "uo0oSLpWgzl6",
        "outputId": "03a3905c-8a93-4880-f8bb-b9b1a05501af"
      },
      "outputs": [
        {
          "output_type": "stream",
          "name": "stdout",
          "text": [
            "Drive already mounted at /content/drive; to attempt to forcibly remount, call drive.mount(\"/content/drive\", force_remount=True).\n"
          ]
        }
      ],
      "source": [
        "import tensorflow as tf\n",
        "import os\n",
        "import cv2\n",
        "import imghdr\n",
        "from google.colab import drive\n",
        "drive.mount('/content/drive')"
      ]
    },
    {
      "cell_type": "code",
      "execution_count": 61,
      "metadata": {
        "colab": {
          "base_uri": "https://localhost:8080/"
        },
        "id": "A06UQcOWgzmA",
        "outputId": "f3151a79-7e3b-4c6c-ea98-5857ae69b322"
      },
      "outputs": [
        {
          "output_type": "execute_result",
          "data": {
            "text/plain": [
              "['OCD', 'norm']"
            ]
          },
          "metadata": {},
          "execution_count": 61
        }
      ],
      "source": [
        "os.chdir('/content/drive/My Drive/Pics - Beta 1 - first45')\n",
        "os.listdir('/content/drive/My Drive/Pics - Beta 1 - first45')"
      ]
    },
    {
      "cell_type": "code",
      "execution_count": 62,
      "metadata": {
        "id": "O2RqnY9HgzmD"
      },
      "outputs": [],
      "source": [
        "data_dir= '/content/drive/My Drive/Pics - Beta 1 - first45'"
      ]
    },
    {
      "cell_type": "code",
      "execution_count": 63,
      "metadata": {
        "colab": {
          "base_uri": "https://localhost:8080/"
        },
        "id": "dkbox1hvgzmE",
        "outputId": "62ab0f07-a968-43a0-c538-a20e0ac8447d"
      },
      "outputs": [
        {
          "output_type": "execute_result",
          "data": {
            "text/plain": [
              "['OCD_2.png',\n",
              " 'OCD_1.png',\n",
              " 'OCD_9.png',\n",
              " 'OCD_7.png',\n",
              " 'OCD_3.png',\n",
              " 'OCD_5.png',\n",
              " 'OCD_4.png',\n",
              " 'OCD_6.png',\n",
              " 'OCD_8.png',\n",
              " 'OCD_16.png',\n",
              " 'OCD_14.png',\n",
              " 'OCD_15.png',\n",
              " 'OCD_12.png',\n",
              " 'OCD_10.png',\n",
              " 'OCD_13.png',\n",
              " 'OCD_11.png',\n",
              " 'OCD_20.png',\n",
              " 'OCD_23.png',\n",
              " 'OCD_19.png',\n",
              " 'OCD_17.png',\n",
              " 'OCD_22.png',\n",
              " 'OCD_18.png',\n",
              " 'OCD_21.png',\n",
              " 'OCD_25.png',\n",
              " 'OCD_29.png',\n",
              " 'OCD_24.png',\n",
              " 'OCD_27.png',\n",
              " 'OCD_30.png',\n",
              " 'OCD_28.png',\n",
              " 'OCD_26.png',\n",
              " 'OCD_37.png',\n",
              " 'OCD_31.png',\n",
              " 'OCD_34.png',\n",
              " 'OCD_35.png',\n",
              " 'OCD_36.png',\n",
              " 'OCD_33.png',\n",
              " 'OCD_32.png',\n",
              " 'OCD_40.png',\n",
              " 'OCD_42.png',\n",
              " 'OCD_44.png',\n",
              " 'OCD_39.png',\n",
              " 'OCD_43.png',\n",
              " 'OCD_41.png',\n",
              " 'OCD_38.png',\n",
              " 'OCD_51.png',\n",
              " 'OCD_48.png',\n",
              " 'OCD_49.png',\n",
              " 'OCD_45.png',\n",
              " 'OCD_46.png',\n",
              " 'OCD_50.png',\n",
              " 'OCD_47.png',\n",
              " 'OCD_57.png',\n",
              " 'OCD_56.png',\n",
              " 'OCD_54.png',\n",
              " 'OCD_58.png',\n",
              " 'OCD_53.png',\n",
              " 'OCD_52.png',\n",
              " 'OCD_55.png',\n",
              " 'OCD_64.png',\n",
              " 'OCD_60.png',\n",
              " 'OCD_59.png',\n",
              " 'OCD_62.png',\n",
              " 'OCD_63.png',\n",
              " 'OCD_61.png',\n",
              " 'OCD_65.png',\n",
              " 'OCD_70.png',\n",
              " 'OCD_67.png',\n",
              " 'OCD_71.png',\n",
              " 'OCD_69.png',\n",
              " 'OCD_68.png',\n",
              " 'OCD_66.png',\n",
              " 'OCD_72.png',\n",
              " 'OCD_74.png',\n",
              " 'OCD_75.png',\n",
              " 'OCD_78.png',\n",
              " 'OCD_73.png',\n",
              " 'OCD_76.png',\n",
              " 'OCD_77.png',\n",
              " 'OCD_79.png',\n",
              " 'OCD_81.png',\n",
              " 'OCD_85.png',\n",
              " 'OCD_84.png',\n",
              " 'OCD_83.png',\n",
              " 'OCD_82.png',\n",
              " 'OCD_80.png',\n",
              " 'OCD_88.png',\n",
              " 'OCD_89.png',\n",
              " 'OCD_92.png',\n",
              " 'OCD_91.png',\n",
              " 'OCD_86.png',\n",
              " 'OCD_90.png',\n",
              " 'OCD_87.png',\n",
              " 'OCD_97.png',\n",
              " 'OCD_99.png',\n",
              " 'OCD_94.png',\n",
              " 'OCD_93.png',\n",
              " 'OCD_95.png',\n",
              " 'OCD_98.png',\n",
              " 'OCD_96.png',\n",
              " 'OCD_100.png',\n",
              " 'OCD_106.png',\n",
              " 'OCD_105.png',\n",
              " 'OCD_104.png',\n",
              " 'OCD_102.png',\n",
              " 'OCD_101.png',\n",
              " 'OCD_103.png',\n",
              " 'OCD_111.png',\n",
              " 'OCD_112.png',\n",
              " 'OCD_109.png',\n",
              " 'OCD_113.png',\n",
              " 'OCD_110.png',\n",
              " 'OCD_107.png',\n",
              " 'OCD_108.png',\n",
              " 'OCD_117.png',\n",
              " 'OCD_115.png',\n",
              " 'OCD_116.png',\n",
              " 'OCD_118.png',\n",
              " 'OCD_120.png',\n",
              " 'OCD_114.png',\n",
              " 'OCD_119.png',\n",
              " 'OCD_123.png',\n",
              " 'OCD_127.png',\n",
              " 'OCD_122.png',\n",
              " 'OCD_126.png',\n",
              " 'OCD_121.png',\n",
              " 'OCD_125.png',\n",
              " 'OCD_124.png',\n",
              " 'OCD_129.png',\n",
              " 'OCD_128.png',\n",
              " 'OCD_133.png',\n",
              " 'OCD_131.png',\n",
              " 'OCD_132.png',\n",
              " 'OCD_134.png',\n",
              " 'OCD_130.png',\n",
              " 'OCD_141.png',\n",
              " 'OCD_136.png',\n",
              " 'OCD_137.png',\n",
              " 'OCD_139.png',\n",
              " 'OCD_138.png',\n",
              " 'OCD_135.png',\n",
              " 'OCD_140.png',\n",
              " 'OCD_143.png',\n",
              " 'OCD_145.png',\n",
              " 'OCD_147.png',\n",
              " 'OCD_146.png',\n",
              " 'OCD_148.png',\n",
              " 'OCD_142.png',\n",
              " 'OCD_144.png',\n",
              " 'OCD_150.png',\n",
              " 'OCD_154.png',\n",
              " 'OCD_149.png',\n",
              " 'OCD_151.png',\n",
              " 'OCD_153.png',\n",
              " 'OCD_152.png',\n",
              " 'OCD_160.png',\n",
              " 'OCD_159.png',\n",
              " 'OCD_156.png',\n",
              " 'OCD_158.png',\n",
              " 'OCD_161.png',\n",
              " 'OCD_157.png',\n",
              " 'OCD_155.png',\n",
              " 'OCD_165.png',\n",
              " 'OCD_162.png',\n",
              " 'OCD_168.png',\n",
              " 'OCD_163.png',\n",
              " 'OCD_167.png',\n",
              " 'OCD_166.png',\n",
              " 'OCD_164.png',\n",
              " 'OCD_171.png',\n",
              " 'OCD_170.png',\n",
              " 'OCD_169.png',\n",
              " 'OCD_172.png',\n",
              " 'OCD_174.png',\n",
              " 'OCD_175.png',\n",
              " 'OCD_173.png',\n",
              " 'OCD_179.png',\n",
              " 'OCD_177.png',\n",
              " 'OCD_181.png',\n",
              " 'OCD_176.png',\n",
              " 'OCD_182.png',\n",
              " 'OCD_178.png',\n",
              " 'OCD_180.png',\n",
              " 'OCD_186.png',\n",
              " 'OCD_189.png',\n",
              " 'OCD_184.png',\n",
              " 'OCD_187.png',\n",
              " 'OCD_183.png',\n",
              " 'OCD_188.png',\n",
              " 'OCD_185.png',\n",
              " 'OCD_196.png',\n",
              " 'OCD_192.png',\n",
              " 'OCD_190.png',\n",
              " 'OCD_194.png',\n",
              " 'OCD_193.png',\n",
              " 'OCD_191.png',\n",
              " 'OCD_195.png',\n",
              " 'OCD_203.png',\n",
              " 'OCD_199.png',\n",
              " 'OCD_202.png',\n",
              " 'OCD_197.png',\n",
              " 'OCD_200.png',\n",
              " 'OCD_198.png',\n",
              " 'OCD_201.png',\n",
              " 'OCD_210.png',\n",
              " 'OCD_209.png',\n",
              " 'OCD_207.png',\n",
              " 'OCD_208.png',\n",
              " 'OCD_204.png',\n",
              " 'OCD_206.png',\n",
              " 'OCD_205.png',\n",
              " 'OCD_216.png',\n",
              " 'OCD_212.png',\n",
              " 'OCD_217.png',\n",
              " 'OCD_214.png',\n",
              " 'OCD_213.png',\n",
              " 'OCD_211.png',\n",
              " 'OCD_215.png',\n",
              " 'OCD_222.png',\n",
              " 'OCD_223.png',\n",
              " 'OCD_218.png',\n",
              " 'OCD_219.png',\n",
              " 'OCD_221.png',\n",
              " 'OCD_220.png',\n",
              " 'OCD_228.png',\n",
              " 'OCD_229.png',\n",
              " 'OCD_224.png',\n",
              " 'OCD_226.png',\n",
              " 'OCD_230.png',\n",
              " 'OCD_225.png',\n",
              " 'OCD_227.png',\n",
              " 'OCD_235.png',\n",
              " 'OCD_236.png',\n",
              " 'OCD_233.png',\n",
              " 'OCD_234.png',\n",
              " 'OCD_232.png',\n",
              " 'OCD_237.png',\n",
              " 'OCD_231.png',\n",
              " 'OCD_243.png',\n",
              " 'OCD_238.png',\n",
              " 'OCD_242.png',\n",
              " 'OCD_241.png',\n",
              " 'OCD_239.png',\n",
              " 'OCD_240.png',\n",
              " 'OCD_246.png',\n",
              " 'OCD_247.png',\n",
              " 'OCD_248.png',\n",
              " 'OCD_249.png',\n",
              " 'OCD_250.png',\n",
              " 'OCD_244.png',\n",
              " 'OCD_245.png',\n",
              " 'OCD_251.png',\n",
              " 'OCD_255.png',\n",
              " 'OCD_254.png',\n",
              " 'OCD_253.png',\n",
              " 'OCD_256.png',\n",
              " 'OCD_252.png',\n",
              " 'OCD_258.png',\n",
              " 'OCD_262.png',\n",
              " 'OCD_259.png',\n",
              " 'OCD_257.png',\n",
              " 'OCD_261.png',\n",
              " 'OCD_260.png',\n",
              " 'OCD_263.png',\n",
              " 'OCD_267.png',\n",
              " 'OCD_265.png',\n",
              " 'OCD_270.png',\n",
              " 'OCD_266.png',\n",
              " 'OCD_269.png',\n",
              " 'OCD_264.png',\n",
              " 'OCD_268.png',\n",
              " 'OCD_274.png',\n",
              " 'OCD_273.png',\n",
              " 'OCD_271.png',\n",
              " 'OCD_276.png',\n",
              " 'OCD_275.png',\n",
              " 'OCD_272.png',\n",
              " 'OCD_277.png',\n",
              " 'OCD_284.png',\n",
              " 'OCD_283.png',\n",
              " 'OCD_282.png',\n",
              " 'OCD_281.png',\n",
              " 'OCD_280.png',\n",
              " 'OCD_278.png',\n",
              " 'OCD_279.png',\n",
              " 'OCD_286.png',\n",
              " 'OCD_287.png',\n",
              " 'OCD_289.png',\n",
              " 'OCD_285.png',\n",
              " 'OCD_291.png',\n",
              " 'OCD_288.png',\n",
              " 'OCD_290.png',\n",
              " 'OCD_296.png',\n",
              " 'OCD_293.png',\n",
              " 'OCD_292.png',\n",
              " 'OCD_294.png',\n",
              " 'OCD_297.png',\n",
              " 'OCD_295.png',\n",
              " 'OCD_298.png',\n",
              " 'OCD_303.png',\n",
              " 'OCD_304.png',\n",
              " 'OCD_301.png',\n",
              " 'OCD_302.png',\n",
              " 'OCD_300.png',\n",
              " 'OCD_299.png',\n",
              " 'OCD_310.png',\n",
              " 'OCD_309.png',\n",
              " 'OCD_311.png',\n",
              " 'OCD_305.png',\n",
              " 'OCD_308.png',\n",
              " 'OCD_306.png',\n",
              " 'OCD_307.png',\n",
              " 'OCD_312.png',\n",
              " 'OCD_316.png',\n",
              " 'OCD_314.png',\n",
              " 'OCD_317.png',\n",
              " 'OCD_313.png',\n",
              " 'OCD_315.png',\n",
              " 'OCD_318.png',\n",
              " 'OCD_323.png',\n",
              " 'OCD_322.png',\n",
              " 'OCD_321.png',\n",
              " 'OCD_319.png',\n",
              " 'OCD_320.png',\n",
              " 'OCD_325.png',\n",
              " 'OCD_324.png',\n",
              " 'OCD_329.png',\n",
              " 'OCD_332.png',\n",
              " 'OCD_326.png',\n",
              " 'OCD_331.png',\n",
              " 'OCD_327.png',\n",
              " 'OCD_330.png',\n",
              " 'OCD_328.png',\n",
              " 'OCD_333.png',\n",
              " 'OCD_337.png',\n",
              " 'OCD_338.png',\n",
              " 'OCD_335.png',\n",
              " 'OCD_336.png',\n",
              " 'OCD_334.png',\n",
              " 'OCD_344.png',\n",
              " 'OCD_339.png',\n",
              " 'OCD_342.png',\n",
              " 'OCD_340.png',\n",
              " 'OCD_341.png',\n",
              " 'OCD_343.png',\n",
              " 'OCD_346.png',\n",
              " 'OCD_348.png',\n",
              " 'OCD_345.png',\n",
              " 'OCD_350.png',\n",
              " 'OCD_347.png',\n",
              " 'OCD_349.png',\n",
              " 'OCD_355.png',\n",
              " 'OCD_354.png',\n",
              " 'OCD_351.png',\n",
              " 'OCD_353.png',\n",
              " 'OCD_352.png',\n",
              " 'OCD_357.png',\n",
              " 'OCD_356.png',\n",
              " 'OCD_359.png',\n",
              " 'OCD_358.png',\n",
              " 'OCD_361.png',\n",
              " 'OCD_360.png',\n",
              " 'OCD_363.png',\n",
              " 'OCD_362.png',\n",
              " 'OCD_364.png',\n",
              " 'OCD_365.png',\n",
              " 'OCD_366.png',\n",
              " 'OCD_368.png',\n",
              " 'OCD_367.png',\n",
              " 'OCD_370.png',\n",
              " 'OCD_369.png',\n",
              " 'OCD_371.png',\n",
              " 'OCD_372.png',\n",
              " 'OCD_373.png',\n",
              " 'OCD_374.png',\n",
              " 'OCD_375.png',\n",
              " 'OCD_377.png',\n",
              " 'OCD_376.png',\n",
              " 'OCD_378.png',\n",
              " 'OCD_379.png',\n",
              " 'OCD_380.png',\n",
              " 'OCD_381.png',\n",
              " 'OCD_382.png',\n",
              " 'OCD_384.png',\n",
              " 'OCD_385.png',\n",
              " 'OCD_383.png',\n",
              " 'OCD_386.png',\n",
              " 'OCD_387.png',\n",
              " 'OCD_391.png',\n",
              " 'OCD_388.png',\n",
              " 'OCD_389.png',\n",
              " 'OCD_392.png',\n",
              " 'OCD_390.png',\n",
              " 'OCD_396.png',\n",
              " 'OCD_398.png',\n",
              " 'OCD_394.png',\n",
              " 'OCD_397.png',\n",
              " 'OCD_395.png',\n",
              " 'OCD_393.png',\n",
              " 'OCD_400.png',\n",
              " 'OCD_399.png',\n",
              " 'OCD_403.png',\n",
              " 'OCD_401.png',\n",
              " 'OCD_404.png',\n",
              " 'OCD_402.png',\n",
              " 'OCD_409.png',\n",
              " 'OCD_406.png',\n",
              " 'OCD_405.png',\n",
              " 'OCD_407.png',\n",
              " 'OCD_408.png',\n",
              " 'OCD_412.png',\n",
              " 'OCD_411.png',\n",
              " 'OCD_414.png',\n",
              " 'OCD_415.png',\n",
              " 'OCD_413.png',\n",
              " 'OCD_410.png',\n",
              " 'OCD_416.png',\n",
              " 'OCD_420.png',\n",
              " 'OCD_422.png',\n",
              " 'OCD_421.png',\n",
              " 'OCD_419.png',\n",
              " 'OCD_417.png',\n",
              " 'OCD_418.png',\n",
              " 'OCD_425.png',\n",
              " 'OCD_424.png',\n",
              " 'OCD_427.png',\n",
              " 'OCD_426.png',\n",
              " 'OCD_428.png',\n",
              " 'OCD_423.png',\n",
              " 'OCD_430.png',\n",
              " 'OCD_431.png',\n",
              " 'OCD_432.png',\n",
              " 'OCD_433.png',\n",
              " 'OCD_429.png',\n",
              " 'OCD_435.png',\n",
              " 'OCD_437.png',\n",
              " 'OCD_436.png',\n",
              " 'OCD_439.png',\n",
              " 'OCD_438.png',\n",
              " 'OCD_434.png',\n",
              " 'OCD_444.png',\n",
              " 'OCD_440.png',\n",
              " 'OCD_445.png',\n",
              " 'OCD_443.png',\n",
              " 'OCD_442.png',\n",
              " 'OCD_441.png',\n",
              " 'OCD_446.png',\n",
              " 'OCD_450.png',\n",
              " 'OCD_449.png',\n",
              " 'OCD_451.png',\n",
              " 'OCD_447.png',\n",
              " 'OCD_448.png',\n",
              " 'OCD_457.png',\n",
              " 'OCD_455.png',\n",
              " 'OCD_456.png',\n",
              " 'OCD_452.png',\n",
              " 'OCD_454.png',\n",
              " 'OCD_453.png',\n",
              " 'OCD_460.png',\n",
              " 'OCD_461.png',\n",
              " 'OCD_458.png',\n",
              " 'OCD_462.png',\n",
              " 'OCD_459.png',\n",
              " 'OCD_465.png',\n",
              " 'OCD_463.png',\n",
              " 'OCD_464.png',\n",
              " 'OCD_466.png',\n",
              " 'OCD_467.png',\n",
              " 'OCD_468.png',\n",
              " 'OCD_472.png',\n",
              " 'OCD_474.png',\n",
              " 'OCD_473.png',\n",
              " 'OCD_470.png',\n",
              " 'OCD_469.png',\n",
              " 'OCD_471.png',\n",
              " 'OCD_479.png',\n",
              " 'OCD_478.png',\n",
              " 'OCD_475.png',\n",
              " 'OCD_477.png',\n",
              " 'OCD_476.png',\n",
              " 'OCD_480.png',\n",
              " 'OCD_481.png',\n",
              " 'OCD_487.png',\n",
              " 'OCD_485.png',\n",
              " 'OCD_482.png',\n",
              " 'OCD_486.png',\n",
              " 'OCD_483.png',\n",
              " 'OCD_484.png',\n",
              " 'OCD_489.png',\n",
              " 'OCD_488.png',\n",
              " 'OCD_492.png',\n",
              " 'OCD_491.png',\n",
              " 'OCD_493.png',\n",
              " 'OCD_490.png',\n",
              " 'OCD_495.png',\n",
              " 'OCD_498.png',\n",
              " 'OCD_499.png',\n",
              " 'OCD_497.png',\n",
              " 'OCD_500.png',\n",
              " 'OCD_494.png',\n",
              " 'OCD_496.png',\n",
              " 'OCD_505.png',\n",
              " 'OCD_504.png',\n",
              " 'OCD_502.png',\n",
              " 'OCD_503.png',\n",
              " 'OCD_501.png',\n",
              " 'OCD_506.png',\n",
              " 'OCD_508.png',\n",
              " 'OCD_507.png',\n",
              " 'OCD_511.png',\n",
              " 'OCD_510.png',\n",
              " 'OCD_509.png',\n",
              " 'OCD_515.png',\n",
              " 'OCD_514.png',\n",
              " 'OCD_516.png',\n",
              " 'OCD_512.png',\n",
              " 'OCD_513.png',\n",
              " 'OCD_519.png',\n",
              " 'OCD_521.png',\n",
              " 'OCD_520.png',\n",
              " 'OCD_518.png',\n",
              " 'OCD_522.png',\n",
              " 'OCD_517.png',\n",
              " 'OCD_525.png',\n",
              " 'OCD_523.png',\n",
              " 'OCD_527.png',\n",
              " 'OCD_529.png',\n",
              " 'OCD_526.png',\n",
              " 'OCD_528.png',\n",
              " 'OCD_524.png',\n",
              " 'OCD_530.png',\n",
              " 'OCD_531.png',\n",
              " 'OCD_532.png',\n",
              " 'OCD_535.png',\n",
              " 'OCD_533.png',\n",
              " 'OCD_534.png',\n",
              " 'OCD_537.png',\n",
              " 'OCD_538.png',\n",
              " 'OCD_541.png',\n",
              " 'OCD_540.png',\n",
              " 'OCD_539.png',\n",
              " 'OCD_536.png',\n",
              " 'OCD_542.png',\n",
              " 'OCD_546.png',\n",
              " 'OCD_548.png',\n",
              " 'OCD_544.png',\n",
              " 'OCD_545.png',\n",
              " 'OCD_547.png',\n",
              " 'OCD_543.png',\n",
              " 'OCD_550.png',\n",
              " 'OCD_553.png',\n",
              " 'OCD_554.png',\n",
              " 'OCD_552.png',\n",
              " 'OCD_549.png',\n",
              " 'OCD_551.png',\n",
              " 'OCD_557.png',\n",
              " 'OCD_556.png',\n",
              " 'OCD_558.png',\n",
              " 'OCD_559.png',\n",
              " 'OCD_560.png',\n",
              " 'OCD_555.png',\n",
              " 'OCD_563.png',\n",
              " 'OCD_561.png',\n",
              " 'OCD_566.png',\n",
              " 'OCD_565.png',\n",
              " 'OCD_564.png',\n",
              " 'OCD_562.png',\n",
              " 'OCD_571.png',\n",
              " 'OCD_573.png',\n",
              " 'OCD_567.png',\n",
              " 'OCD_572.png',\n",
              " 'OCD_568.png',\n",
              " 'OCD_569.png',\n",
              " 'OCD_570.png',\n",
              " 'OCD_577.png',\n",
              " 'OCD_575.png',\n",
              " 'OCD_576.png',\n",
              " 'OCD_579.png',\n",
              " 'OCD_578.png',\n",
              " 'OCD_574.png',\n",
              " 'OCD_586.png',\n",
              " 'OCD_581.png',\n",
              " 'OCD_585.png',\n",
              " 'OCD_583.png',\n",
              " 'OCD_582.png',\n",
              " 'OCD_584.png',\n",
              " 'OCD_580.png',\n",
              " 'OCD_588.png',\n",
              " 'OCD_591.png',\n",
              " 'OCD_587.png',\n",
              " 'OCD_590.png',\n",
              " 'OCD_589.png',\n",
              " 'OCD_593.png',\n",
              " 'OCD_598.png',\n",
              " 'OCD_592.png',\n",
              " 'OCD_597.png',\n",
              " 'OCD_596.png',\n",
              " 'OCD_595.png',\n",
              " 'OCD_594.png',\n",
              " 'OCD_604.png',\n",
              " 'OCD_602.png',\n",
              " 'OCD_603.png',\n",
              " 'OCD_601.png',\n",
              " 'OCD_600.png',\n",
              " 'OCD_599.png',\n",
              " 'OCD_607.png',\n",
              " 'OCD_606.png',\n",
              " 'OCD_609.png',\n",
              " 'OCD_608.png',\n",
              " 'OCD_610.png',\n",
              " 'OCD_605.png',\n",
              " 'OCD_613.png',\n",
              " 'OCD_615.png',\n",
              " 'OCD_617.png',\n",
              " 'OCD_616.png',\n",
              " 'OCD_614.png',\n",
              " 'OCD_612.png',\n",
              " 'OCD_611.png',\n",
              " 'OCD_621.png',\n",
              " 'OCD_618.png',\n",
              " 'OCD_620.png',\n",
              " 'OCD_619.png',\n",
              " 'OCD_623.png',\n",
              " 'OCD_622.png',\n",
              " 'OCD_627.png',\n",
              " 'OCD_625.png',\n",
              " 'OCD_629.png',\n",
              " 'OCD_624.png',\n",
              " 'OCD_628.png',\n",
              " 'OCD_630.png',\n",
              " 'OCD_626.png',\n",
              " 'OCD_636.png',\n",
              " 'OCD_631.png',\n",
              " 'OCD_633.png',\n",
              " 'OCD_635.png',\n",
              " 'OCD_632.png',\n",
              " 'OCD_634.png',\n",
              " 'OCD_640.png',\n",
              " 'OCD_638.png',\n",
              " 'OCD_639.png',\n",
              " 'OCD_641.png',\n",
              " 'OCD_642.png',\n",
              " 'OCD_637.png',\n",
              " 'OCD_645.png',\n",
              " 'OCD_643.png',\n",
              " 'OCD_647.png',\n",
              " 'OCD_649.png',\n",
              " 'OCD_648.png',\n",
              " 'OCD_646.png',\n",
              " 'OCD_644.png',\n",
              " 'OCD_651.png',\n",
              " 'OCD_654.png',\n",
              " 'OCD_653.png',\n",
              " 'OCD_650.png',\n",
              " 'OCD_655.png',\n",
              " 'OCD_652.png',\n",
              " 'OCD_660.png',\n",
              " 'OCD_659.png',\n",
              " 'OCD_658.png',\n",
              " 'OCD_662.png',\n",
              " 'OCD_656.png',\n",
              " 'OCD_661.png',\n",
              " 'OCD_657.png',\n",
              " 'OCD_667.png',\n",
              " 'OCD_665.png',\n",
              " 'OCD_663.png',\n",
              " 'OCD_664.png',\n",
              " 'OCD_666.png',\n",
              " 'OCD_671.png',\n",
              " 'OCD_672.png',\n",
              " 'OCD_673.png',\n",
              " 'OCD_674.png',\n",
              " 'OCD_670.png',\n",
              " 'OCD_669.png',\n",
              " 'OCD_668.png',\n",
              " 'OCD_676.png',\n",
              " 'OCD_675.png',\n",
              " 'OCD_678.png',\n",
              " 'OCD_677.png',\n",
              " 'OCD_680.png',\n",
              " 'OCD_679.png',\n",
              " 'OCD_683.png',\n",
              " 'OCD_685.png',\n",
              " 'OCD_686.png',\n",
              " 'OCD_681.png',\n",
              " 'OCD_684.png',\n",
              " 'OCD_682.png',\n",
              " 'OCD_691.png',\n",
              " 'OCD_689.png',\n",
              " 'OCD_688.png',\n",
              " 'OCD_687.png',\n",
              " 'OCD_692.png',\n",
              " 'OCD_693.png',\n",
              " 'OCD_690.png',\n",
              " 'OCD_695.png',\n",
              " 'OCD_697.png',\n",
              " 'OCD_696.png',\n",
              " 'OCD_699.png',\n",
              " 'OCD_694.png',\n",
              " 'OCD_698.png',\n",
              " 'OCD_705.png',\n",
              " 'OCD_703.png',\n",
              " 'OCD_706.png',\n",
              " 'OCD_702.png',\n",
              " 'OCD_704.png',\n",
              " 'OCD_701.png',\n",
              " 'OCD_700.png',\n",
              " 'OCD_708.png',\n",
              " 'OCD_712.png',\n",
              " 'OCD_711.png',\n",
              " 'OCD_707.png',\n",
              " 'OCD_709.png',\n",
              " 'OCD_710.png',\n",
              " 'OCD_716.png',\n",
              " 'OCD_718.png',\n",
              " 'OCD_713.png',\n",
              " 'OCD_717.png',\n",
              " 'OCD_715.png',\n",
              " 'OCD_714.png',\n",
              " 'OCD_724.png',\n",
              " 'OCD_721.png',\n",
              " 'OCD_720.png',\n",
              " 'OCD_725.png',\n",
              " 'OCD_723.png',\n",
              " 'OCD_722.png',\n",
              " 'OCD_719.png',\n",
              " 'OCD_728.png',\n",
              " 'OCD_726.png',\n",
              " 'OCD_727.png',\n",
              " 'OCD_730.png',\n",
              " 'OCD_729.png',\n",
              " 'OCD_731.png',\n",
              " 'OCD_736.png',\n",
              " 'OCD_735.png',\n",
              " 'OCD_734.png',\n",
              " 'OCD_732.png',\n",
              " 'OCD_737.png',\n",
              " 'OCD_733.png',\n",
              " 'OCD_741.png',\n",
              " 'OCD_743.png',\n",
              " 'OCD_740.png',\n",
              " 'OCD_738.png',\n",
              " 'OCD_742.png',\n",
              " 'OCD_739.png',\n",
              " 'OCD_744.png',\n",
              " 'OCD_747.png',\n",
              " 'OCD_746.png',\n",
              " 'OCD_745.png',\n",
              " 'OCD_749.png',\n",
              " 'OCD_748.png',\n",
              " 'OCD_750.png',\n",
              " 'OCD_755.png',\n",
              " 'OCD_756.png',\n",
              " 'OCD_754.png',\n",
              " 'OCD_751.png',\n",
              " 'OCD_752.png',\n",
              " 'OCD_753.png',\n",
              " 'OCD_758.png',\n",
              " 'OCD_762.png',\n",
              " 'OCD_761.png',\n",
              " 'OCD_757.png',\n",
              " 'OCD_759.png',\n",
              " 'OCD_760.png',\n",
              " 'OCD_768.png',\n",
              " 'OCD_764.png',\n",
              " 'OCD_763.png',\n",
              " 'OCD_769.png',\n",
              " 'OCD_765.png',\n",
              " 'OCD_767.png',\n",
              " 'OCD_766.png',\n",
              " 'OCD_772.png',\n",
              " 'OCD_770.png',\n",
              " 'OCD_773.png',\n",
              " 'OCD_774.png',\n",
              " 'OCD_771.png',\n",
              " 'OCD_777.png',\n",
              " 'OCD_780.png',\n",
              " 'OCD_776.png',\n",
              " 'OCD_778.png',\n",
              " 'OCD_781.png',\n",
              " 'OCD_775.png',\n",
              " 'OCD_779.png',\n",
              " 'OCD_783.png',\n",
              " 'OCD_786.png',\n",
              " 'OCD_785.png',\n",
              " 'OCD_784.png',\n",
              " 'OCD_787.png',\n",
              " 'OCD_782.png',\n",
              " 'OCD_791.png',\n",
              " 'OCD_788.png',\n",
              " 'OCD_790.png',\n",
              " 'OCD_792.png',\n",
              " 'OCD_789.png',\n",
              " 'OCD_793.png',\n",
              " 'OCD_796.png',\n",
              " 'OCD_794.png',\n",
              " 'OCD_795.png',\n",
              " 'OCD_798.png',\n",
              " 'OCD_799.png',\n",
              " 'OCD_797.png',\n",
              " 'OCD_800.png',\n",
              " 'OCD_804.png',\n",
              " 'OCD_805.png',\n",
              " 'OCD_806.png',\n",
              " 'OCD_803.png',\n",
              " 'OCD_801.png',\n",
              " 'OCD_802.png',\n",
              " 'OCD_811.png',\n",
              " 'OCD_807.png',\n",
              " 'OCD_810.png',\n",
              " 'OCD_812.png',\n",
              " 'OCD_808.png',\n",
              " 'OCD_809.png',\n",
              " 'OCD_814.png',\n",
              " 'OCD_817.png',\n",
              " 'OCD_816.png',\n",
              " 'OCD_813.png',\n",
              " 'OCD_815.png',\n",
              " 'OCD_818.png',\n",
              " 'OCD_823.png',\n",
              " 'OCD_819.png',\n",
              " 'OCD_820.png',\n",
              " 'OCD_822.png',\n",
              " 'OCD_821.png',\n",
              " 'OCD_824.png',\n",
              " 'OCD_830.png',\n",
              " 'OCD_826.png',\n",
              " 'OCD_828.png',\n",
              " 'OCD_827.png',\n",
              " 'OCD_825.png',\n",
              " 'OCD_831.png',\n",
              " 'OCD_829.png',\n",
              " 'OCD_834.png',\n",
              " 'OCD_832.png',\n",
              " 'OCD_835.png',\n",
              " 'OCD_837.png',\n",
              " 'OCD_836.png',\n",
              " 'OCD_833.png',\n",
              " 'OCD_842.png',\n",
              " 'OCD_838.png',\n",
              " 'OCD_841.png',\n",
              " 'OCD_843.png',\n",
              " 'OCD_840.png',\n",
              " 'OCD_839.png',\n",
              " 'OCD_846.png',\n",
              " 'OCD_845.png',\n",
              " 'OCD_849.png',\n",
              " 'OCD_848.png',\n",
              " 'OCD_844.png',\n",
              " 'OCD_847.png',\n",
              " 'OCD_853.png',\n",
              " 'OCD_850.png',\n",
              " 'OCD_852.png',\n",
              " 'OCD_855.png',\n",
              " 'OCD_854.png',\n",
              " 'OCD_851.png']"
            ]
          },
          "metadata": {},
          "execution_count": 63
        }
      ],
      "source": [
        "os.listdir(os.path.join(data_dir,'OCD'))"
      ]
    },
    {
      "cell_type": "code",
      "execution_count": 64,
      "metadata": {
        "id": "jMjCQq8MgzmF"
      },
      "outputs": [],
      "source": [
        "image_exts= [ 'jpeg','jpg','png','bmp']"
      ]
    },
    {
      "cell_type": "code",
      "execution_count": 65,
      "metadata": {
        "colab": {
          "base_uri": "https://localhost:8080/"
        },
        "id": "P0Tlsld9gzmF",
        "outputId": "91a5c153-53f0-4dc7-81f1-60fdc1934e31"
      },
      "outputs": [
        {
          "output_type": "execute_result",
          "data": {
            "text/plain": [
              "(161, 621, 3)"
            ]
          },
          "metadata": {},
          "execution_count": 65
        }
      ],
      "source": [
        "img=cv2.imread(os.path.join('/content/drive/My Drive/Pics - Beta 1 - first45','OCD','OCD_855.png'))\n",
        "img.shape\n"
      ]
    },
    {
      "cell_type": "code",
      "execution_count": 66,
      "metadata": {
        "colab": {
          "base_uri": "https://localhost:8080/",
          "height": 212
        },
        "id": "-lu0LtbdgzmG",
        "outputId": "b11ae8a9-e01e-4fc5-93bd-dca1b147bdc5"
      },
      "outputs": [
        {
          "output_type": "execute_result",
          "data": {
            "text/plain": [
              "<matplotlib.image.AxesImage at 0x7aecdaf8c400>"
            ]
          },
          "metadata": {},
          "execution_count": 66
        },
        {
          "output_type": "display_data",
          "data": {
            "text/plain": [
              "<Figure size 640x480 with 1 Axes>"
            ],
            "image/png": "[encoded data removed]"
          },
          "metadata": {}
        }
      ],
      "source": [
        "import matplotlib.pyplot as plt\n",
        "\n",
        "plt.imshow(cv2.cvtColor(img,cv2.COLOR_BGR2RGB))"
      ]
    },
    {
      "cell_type": "code",
      "execution_count": 67,
      "metadata": {
        "id": "RSLG6WlngzmH"
      },
      "outputs": [],
      "source": [
        "for image_class in os.listdir(data_dir):\n",
        "    for image in os.listdir(os.path.join(data_dir,image_class)):\n",
        "        image_path=os.path.join(data_dir,image_class,image)\n",
        "        try:\n",
        "            img= cv2.imread(image_path)\n",
        "            tip = imghdr.what(image_path)\n",
        "            if tip not in image_exts:\n",
        "                print ('image is not in ext list {}'.format(image_path))\n",
        "                os.remove(image_path)\n",
        "        except Exception as e:\n",
        "            print ('issue with image {}'.format(image_path))"
      ]
    },
    {
      "cell_type": "markdown",
      "metadata": {
        "id": "oWhGIF5HgzmI"
      },
      "source": [
        "# Load Data:"
      ]
    },
    {
      "cell_type": "code",
      "execution_count": 68,
      "metadata": {
        "id": "tMXN7aGVgzmM"
      },
      "outputs": [],
      "source": [
        "import numpy as np"
      ]
    },
    {
      "cell_type": "code",
      "execution_count": null,
      "metadata": {
        "id": "cOzyoFkmgzmN"
      },
      "outputs": [],
      "source": [
        "#tf.data.Dataset??"
      ]
    },
    {
      "cell_type": "code",
      "execution_count": 74,
      "metadata": {
        "colab": {
          "base_uri": "https://localhost:8080/"
        },
        "id": "eXG4x5x6gzmO",
        "outputId": "3c743d04-a149-427f-e041-1d48563e66a6"
      },
      "outputs": [
        {
          "output_type": "stream",
          "name": "stdout",
          "text": [
            "Found 1710 files belonging to 2 classes.\n"
          ]
        }
      ],
      "source": [
        "data= tf.keras.utils.image_dataset_from_directory('/content/drive/My Drive/Pics - Beta 1 - first45',shuffle=False,batch_size=19)"
      ]
    },
    {
      "cell_type": "code",
      "execution_count": 75,
      "metadata": {
        "id": "MiuldGvIgzmP"
      },
      "outputs": [],
      "source": [
        "#tf.keras.utils.image_dataset_from_directory??"
      ]
    },
    {
      "cell_type": "code",
      "execution_count": 76,
      "metadata": {
        "colab": {
          "base_uri": "https://localhost:8080/"
        },
        "id": "k81hSE6IgzmP",
        "outputId": "b0b7d9c9-1f5e-447a-f502-a2f83c909818"
      },
      "outputs": [
        {
          "output_type": "execute_result",
          "data": {
            "text/plain": [
              "<_BatchDataset element_spec=(TensorSpec(shape=(None, 256, 256, 3), dtype=tf.float32, name=None), TensorSpec(shape=(None,), dtype=tf.int32, name=None))>"
            ]
          },
          "metadata": {},
          "execution_count": 76
        }
      ],
      "source": [
        "data"
      ]
    },
    {
      "cell_type": "code",
      "execution_count": 77,
      "metadata": {
        "id": "9ccpxAHlgzmQ"
      },
      "outputs": [],
      "source": [
        "data_iterator= data.as_numpy_iterator()\n"
      ]
    },
    {
      "cell_type": "code",
      "execution_count": 78,
      "metadata": {
        "id": "2mMnJfBzgzmQ"
      },
      "outputs": [],
      "source": [
        "batch=data_iterator.next()"
      ]
    },
    {
      "cell_type": "code",
      "execution_count": 79,
      "metadata": {
        "colab": {
          "base_uri": "https://localhost:8080/"
        },
        "id": "0pFbvRCCgzmR",
        "outputId": "99376ea6-0f5a-4db4-e5c4-69c4cab3e21b"
      },
      "outputs": [
        {
          "output_type": "execute_result",
          "data": {
            "text/plain": [
              "array([0, 0, 0, 0, 0, 0, 0, 0, 0, 0, 0, 0, 0, 0, 0, 0, 0, 0, 0],\n",
              "      dtype=int32)"
            ]
          },
          "metadata": {},
          "execution_count": 79
        }
      ],
      "source": [
        "batch[1]"
      ]
    },
    {
      "cell_type": "code",
      "execution_count": 80,
      "metadata": {
        "colab": {
          "base_uri": "https://localhost:8080/"
        },
        "id": "oT_75pQIgzmR",
        "outputId": "310c39b0-e7a1-4d66-8549-14d0e0dafa42"
      },
      "outputs": [
        {
          "output_type": "execute_result",
          "data": {
            "text/plain": [
              "(19, 256, 256, 3)"
            ]
          },
          "metadata": {},
          "execution_count": 80
        }
      ],
      "source": [
        "batch[0].shape"
      ]
    },
    {
      "cell_type": "code",
      "execution_count": 81,
      "metadata": {
        "colab": {
          "base_uri": "https://localhost:8080/",
          "height": 371
        },
        "id": "fTUF1ai6gzmS",
        "outputId": "268e7b9f-22c8-4148-b727-078cfd741e99"
      },
      "outputs": [
        {
          "output_type": "display_data",
          "data": {
            "text/plain": [
              "<Figure size 2000x2000 with 4 Axes>"
            ],
            "image/png": "[encoded data removed]"
          },
          "metadata": {}
        }
      ],
      "source": [
        "# 0 = norm\n",
        "# 1 = OCD\n",
        "\n",
        "\n",
        "fig,ax= plt.subplots(ncols=4,figsize=(20,20))\n",
        "for idx, img in enumerate(batch[0][:4]):\n",
        "    ax[idx].imshow(img.astype(int))\n",
        "    ax[idx].title.set_text(batch[1][idx])"
      ]
    },
    {
      "cell_type": "markdown",
      "metadata": {
        "id": "Q1RB-TBCgzmS"
      },
      "source": [
        "# Scale Data:"
      ]
    },
    {
      "cell_type": "code",
      "execution_count": 82,
      "metadata": {
        "colab": {
          "base_uri": "https://localhost:8080/"
        },
        "id": "sAP_oCmNgzmT",
        "outputId": "acc6c44e-17dd-4faa-9461-3d33cad93cfa"
      },
      "outputs": [
        {
          "output_type": "execute_result",
          "data": {
            "text/plain": [
              "(array([[[[255.     , 255.     , 255.     ],\n",
              "          [255.     , 255.     , 255.     ],\n",
              "          [122.06055, 121.18945, 128.59375],\n",
              "          ...,\n",
              "          [255.     , 255.     , 255.     ],\n",
              "          [255.     , 255.     , 255.     ],\n",
              "          [255.     , 255.     , 255.     ]],\n",
              " \n",
              "         [[255.     , 255.     , 255.     ],\n",
              "          [255.     , 255.     , 255.     ],\n",
              "          [122.06055, 121.18945, 128.59375],\n",
              "          ...,\n",
              "          [255.     , 255.     , 255.     ],\n",
              "          [255.     , 255.     , 255.     ],\n",
              "          [255.     , 255.     , 255.     ]],\n",
              " \n",
              "         [[255.     , 255.     , 255.     ],\n",
              "          [255.     , 255.     , 255.     ],\n",
              "          [122.06055, 121.18945, 128.59375],\n",
              "          ...,\n",
              "          [255.     , 255.     , 255.     ],\n",
              "          [255.     , 255.     , 255.     ],\n",
              "          [255.     , 255.     , 255.     ]],\n",
              " \n",
              "         ...,\n",
              " \n",
              "         [[255.     , 255.     , 255.     ],\n",
              "          [255.     , 255.     , 255.     ],\n",
              "          [122.06055, 121.18945, 129.46484],\n",
              "          ...,\n",
              "          [255.     , 255.     , 255.     ],\n",
              "          [255.     , 255.     , 255.     ],\n",
              "          [255.     , 255.     , 255.     ]],\n",
              " \n",
              "         [[255.     , 255.     , 255.     ],\n",
              "          [255.     , 255.     , 255.     ],\n",
              "          [122.06055, 121.18945, 129.46484],\n",
              "          ...,\n",
              "          [255.     , 255.     , 255.     ],\n",
              "          [255.     , 255.     , 255.     ],\n",
              "          [255.     , 255.     , 255.     ]],\n",
              " \n",
              "         [[255.     , 255.     , 255.     ],\n",
              "          [255.     , 255.     , 255.     ],\n",
              "          [122.06055, 121.18945, 129.46484],\n",
              "          ...,\n",
              "          [255.     , 255.     , 255.     ],\n",
              "          [255.     , 255.     , 255.     ],\n",
              "          [255.     , 255.     , 255.     ]]],\n",
              " \n",
              " \n",
              "        [[[255.     , 255.     , 255.     ],\n",
              "          [255.     , 255.     , 255.     ],\n",
              "          [122.06055, 120.75391, 127.72266],\n",
              "          ...,\n",
              "          [255.     , 255.     , 255.     ],\n",
              "          [255.     , 255.     , 255.     ],\n",
              "          [255.     , 255.     , 255.     ]],\n",
              " \n",
              "         [[255.     , 255.     , 255.     ],\n",
              "          [255.     , 255.     , 255.     ],\n",
              "          [122.06055, 120.75391, 127.72266],\n",
              "          ...,\n",
              "          [255.     , 255.     , 255.     ],\n",
              "          [255.     , 255.     , 255.     ],\n",
              "          [255.     , 255.     , 255.     ]],\n",
              " \n",
              "         [[255.     , 255.     , 255.     ],\n",
              "          [255.     , 255.     , 255.     ],\n",
              "          [122.06055, 120.75391, 127.72266],\n",
              "          ...,\n",
              "          [255.     , 255.     , 255.     ],\n",
              "          [255.     , 255.     , 255.     ],\n",
              "          [255.     , 255.     , 255.     ]],\n",
              " \n",
              "         ...,\n",
              " \n",
              "         [[255.     , 255.     , 255.     ],\n",
              "          [255.     , 255.     , 255.     ],\n",
              "          [122.06055, 120.75391, 128.1582 ],\n",
              "          ...,\n",
              "          [255.     , 255.     , 255.     ],\n",
              "          [255.     , 255.     , 255.     ],\n",
              "          [255.     , 255.     , 255.     ]],\n",
              " \n",
              "         [[255.     , 255.     , 255.     ],\n",
              "          [255.     , 255.     , 255.     ],\n",
              "          [122.06055, 120.75391, 127.91576],\n",
              "          ...,\n",
              "          [255.     , 255.     , 255.     ],\n",
              "          [255.     , 255.     , 255.     ],\n",
              "          [255.     , 255.     , 255.     ]],\n",
              " \n",
              "         [[255.     , 255.     , 255.     ],\n",
              "          [255.     , 255.     , 255.     ],\n",
              "          [122.06055, 120.75391, 127.72266],\n",
              "          ...,\n",
              "          [255.     , 255.     , 255.     ],\n",
              "          [255.     , 255.     , 255.     ],\n",
              "          [255.     , 255.     , 255.     ]]],\n",
              " \n",
              " \n",
              "        [[[255.     , 255.     , 255.     ],\n",
              "          [255.     , 255.     , 255.     ],\n",
              "          [122.49609, 121.625  , 129.90039],\n",
              "          ...,\n",
              "          [255.     , 255.     , 255.     ],\n",
              "          [255.     , 255.     , 255.     ],\n",
              "          [255.     , 255.     , 255.     ]],\n",
              " \n",
              "         [[255.     , 255.     , 255.     ],\n",
              "          [255.     , 255.     , 255.     ],\n",
              "          [122.49609, 121.625  , 129.90039],\n",
              "          ...,\n",
              "          [255.     , 255.     , 255.     ],\n",
              "          [255.     , 255.     , 255.     ],\n",
              "          [255.     , 255.     , 255.     ]],\n",
              " \n",
              "         [[255.     , 255.     , 255.     ],\n",
              "          [255.     , 255.     , 255.     ],\n",
              "          [122.49609, 121.625  , 129.90039],\n",
              "          ...,\n",
              "          [255.     , 255.     , 255.     ],\n",
              "          [255.     , 255.     , 255.     ],\n",
              "          [255.     , 255.     , 255.     ]],\n",
              " \n",
              "         ...,\n",
              " \n",
              "         [[255.     , 255.     , 255.     ],\n",
              "          [255.     , 255.     , 255.     ],\n",
              "          [122.49609, 122.06055, 131.20703],\n",
              "          ...,\n",
              "          [255.     , 255.     , 255.     ],\n",
              "          [255.     , 255.     , 255.     ],\n",
              "          [255.     , 255.     , 255.     ]],\n",
              " \n",
              "         [[255.     , 255.     , 255.     ],\n",
              "          [255.     , 255.     , 255.     ],\n",
              "          [122.49609, 122.06055, 130.96458],\n",
              "          ...,\n",
              "          [255.     , 255.     , 255.     ],\n",
              "          [255.     , 255.     , 255.     ],\n",
              "          [255.     , 255.     , 255.     ]],\n",
              " \n",
              "         [[255.     , 255.     , 255.     ],\n",
              "          [255.     , 255.     , 255.     ],\n",
              "          [122.49609, 122.06055, 130.77148],\n",
              "          ...,\n",
              "          [255.     , 255.     , 255.     ],\n",
              "          [255.     , 255.     , 255.     ],\n",
              "          [255.     , 255.     , 255.     ]]],\n",
              " \n",
              " \n",
              "        ...,\n",
              " \n",
              " \n",
              "        [[[255.     , 255.     , 255.     ],\n",
              "          [255.     , 255.     , 255.     ],\n",
              "          [122.06055, 121.18945, 129.46484],\n",
              "          ...,\n",
              "          [255.     , 255.     , 255.     ],\n",
              "          [255.     , 255.     , 255.     ],\n",
              "          [255.     , 255.     , 255.     ]],\n",
              " \n",
              "         [[255.     , 255.     , 255.     ],\n",
              "          [255.     , 255.     , 255.     ],\n",
              "          [122.06055, 121.18945, 129.46484],\n",
              "          ...,\n",
              "          [255.     , 255.     , 255.     ],\n",
              "          [255.     , 255.     , 255.     ],\n",
              "          [255.     , 255.     , 255.     ]],\n",
              " \n",
              "         [[255.     , 255.     , 255.     ],\n",
              "          [255.     , 255.     , 255.     ],\n",
              "          [122.06055, 121.18945, 129.46484],\n",
              "          ...,\n",
              "          [255.     , 255.     , 255.     ],\n",
              "          [255.     , 255.     , 255.     ],\n",
              "          [255.     , 255.     , 255.     ]],\n",
              " \n",
              "         ...,\n",
              " \n",
              "         [[255.     , 255.     , 255.     ],\n",
              "          [255.     , 255.     , 255.     ],\n",
              "          [122.06055, 121.18945, 129.0293 ],\n",
              "          ...,\n",
              "          [255.     , 255.     , 255.     ],\n",
              "          [255.     , 255.     , 255.     ],\n",
              "          [255.     , 255.     , 255.     ]],\n",
              " \n",
              "         [[255.     , 255.     , 255.     ],\n",
              "          [255.     , 255.     , 255.     ],\n",
              "          [122.06055, 121.18945, 129.0293 ],\n",
              "          ...,\n",
              "          [255.     , 255.     , 255.     ],\n",
              "          [255.     , 255.     , 255.     ],\n",
              "          [255.     , 255.     , 255.     ]],\n",
              " \n",
              "         [[255.     , 255.     , 255.     ],\n",
              "          [255.     , 255.     , 255.     ],\n",
              "          [122.06055, 121.18945, 129.0293 ],\n",
              "          ...,\n",
              "          [255.     , 255.     , 255.     ],\n",
              "          [255.     , 255.     , 255.     ],\n",
              "          [255.     , 255.     , 255.     ]]],\n",
              " \n",
              " \n",
              "        [[[255.     , 255.     , 255.     ],\n",
              "          [255.     , 255.     , 255.     ],\n",
              "          [122.06055, 121.18945, 129.46484],\n",
              "          ...,\n",
              "          [255.     , 255.     , 255.     ],\n",
              "          [255.     , 255.     , 255.     ],\n",
              "          [255.     , 255.     , 255.     ]],\n",
              " \n",
              "         [[255.     , 255.     , 255.     ],\n",
              "          [255.     , 255.     , 255.     ],\n",
              "          [122.06055, 121.18945, 129.46484],\n",
              "          ...,\n",
              "          [255.     , 255.     , 255.     ],\n",
              "          [255.     , 255.     , 255.     ],\n",
              "          [255.     , 255.     , 255.     ]],\n",
              " \n",
              "         [[255.     , 255.     , 255.     ],\n",
              "          [255.     , 255.     , 255.     ],\n",
              "          [122.06055, 121.18945, 129.46484],\n",
              "          ...,\n",
              "          [255.     , 255.     , 255.     ],\n",
              "          [255.     , 255.     , 255.     ],\n",
              "          [255.     , 255.     , 255.     ]],\n",
              " \n",
              "         ...,\n",
              " \n",
              "         [[255.     , 255.     , 255.     ],\n",
              "          [255.     , 255.     , 255.     ],\n",
              "          [122.06055, 121.18945, 129.46484],\n",
              "          ...,\n",
              "          [255.     , 255.     , 255.     ],\n",
              "          [255.     , 255.     , 255.     ],\n",
              "          [255.     , 255.     , 255.     ]],\n",
              " \n",
              "         [[255.     , 255.     , 255.     ],\n",
              "          [255.     , 255.     , 255.     ],\n",
              "          [122.06055, 121.18945, 129.2224 ],\n",
              "          ...,\n",
              "          [255.     , 255.     , 255.     ],\n",
              "          [255.     , 255.     , 255.     ],\n",
              "          [255.     , 255.     , 255.     ]],\n",
              " \n",
              "         [[255.     , 255.     , 255.     ],\n",
              "          [255.     , 255.     , 255.     ],\n",
              "          [122.06055, 121.18945, 129.0293 ],\n",
              "          ...,\n",
              "          [255.     , 255.     , 255.     ],\n",
              "          [255.     , 255.     , 255.     ],\n",
              "          [255.     , 255.     , 255.     ]]],\n",
              " \n",
              " \n",
              "        [[[255.     , 255.     , 255.     ],\n",
              "          [255.     , 255.     , 255.     ],\n",
              "          [122.06055, 120.75391, 127.72266],\n",
              "          ...,\n",
              "          [255.     , 255.     , 255.     ],\n",
              "          [255.     , 255.     , 255.     ],\n",
              "          [255.     , 255.     , 255.     ]],\n",
              " \n",
              "         [[255.     , 255.     , 255.     ],\n",
              "          [255.     , 255.     , 255.     ],\n",
              "          [122.06055, 120.75391, 127.72266],\n",
              "          ...,\n",
              "          [255.     , 255.     , 255.     ],\n",
              "          [255.     , 255.     , 255.     ],\n",
              "          [255.     , 255.     , 255.     ]],\n",
              " \n",
              "         [[255.     , 255.     , 255.     ],\n",
              "          [255.     , 255.     , 255.     ],\n",
              "          [122.06055, 120.75391, 127.72266],\n",
              "          ...,\n",
              "          [255.     , 255.     , 255.     ],\n",
              "          [255.     , 255.     , 255.     ],\n",
              "          [255.     , 255.     , 255.     ]],\n",
              " \n",
              "         ...,\n",
              " \n",
              "         [[255.     , 255.     , 255.     ],\n",
              "          [255.     , 255.     , 255.     ],\n",
              "          [122.06055, 120.75391, 128.59375],\n",
              "          ...,\n",
              "          [255.     , 255.     , 255.     ],\n",
              "          [255.     , 255.     , 255.     ],\n",
              "          [255.     , 255.     , 255.     ]],\n",
              " \n",
              "         [[255.     , 255.     , 255.     ],\n",
              "          [255.     , 255.     , 255.     ],\n",
              "          [122.06055, 120.75391, 128.59375],\n",
              "          ...,\n",
              "          [255.     , 255.     , 255.     ],\n",
              "          [255.     , 255.     , 255.     ],\n",
              "          [255.     , 255.     , 255.     ]],\n",
              " \n",
              "         [[255.     , 255.     , 255.     ],\n",
              "          [255.     , 255.     , 255.     ],\n",
              "          [122.06055, 120.75391, 128.59375],\n",
              "          ...,\n",
              "          [255.     , 255.     , 255.     ],\n",
              "          [255.     , 255.     , 255.     ],\n",
              "          [255.     , 255.     , 255.     ]]]], dtype=float32),\n",
              " array([0, 0, 0, 0, 0, 0, 0, 0, 0, 0, 0, 0, 0, 0, 0, 0, 0, 0, 0],\n",
              "       dtype=int32))"
            ]
          },
          "metadata": {},
          "execution_count": 82
        }
      ],
      "source": [
        "data.as_numpy_iterator().next()"
      ]
    },
    {
      "cell_type": "code",
      "execution_count": 83,
      "metadata": {
        "colab": {
          "base_uri": "https://localhost:8080/"
        },
        "id": "so7xEwjggzmT",
        "outputId": "a2381f4f-1565-4e3c-e382-54f04683c3b5"
      },
      "outputs": [
        {
          "output_type": "execute_result",
          "data": {
            "text/plain": [
              "255.0"
            ]
          },
          "metadata": {},
          "execution_count": 83
        }
      ],
      "source": [
        "data.as_numpy_iterator().next()[0].max()"
      ]
    },
    {
      "cell_type": "code",
      "execution_count": 84,
      "metadata": {
        "id": "5GOKu5PBgzmU"
      },
      "outputs": [],
      "source": [
        "data= data.map(lambda x,y:(x/255,y))"
      ]
    },
    {
      "cell_type": "code",
      "execution_count": 85,
      "metadata": {
        "colab": {
          "base_uri": "https://localhost:8080/"
        },
        "id": "IujAxFTcgzmU",
        "outputId": "cc975687-5850-4e3d-9ff1-3d9db2f25c0e"
      },
      "outputs": [
        {
          "output_type": "execute_result",
          "data": {
            "text/plain": [
              "(array([[[[1.        , 1.        , 1.        ],\n",
              "          [1.        , 1.        , 1.        ],\n",
              "          [0.4786688 , 0.47525275, 0.5042892 ],\n",
              "          ...,\n",
              "          [1.        , 1.        , 1.        ],\n",
              "          [1.        , 1.        , 1.        ],\n",
              "          [1.        , 1.        , 1.        ]],\n",
              " \n",
              "         [[1.        , 1.        , 1.        ],\n",
              "          [1.        , 1.        , 1.        ],\n",
              "          [0.4786688 , 0.47525275, 0.5042892 ],\n",
              "          ...,\n",
              "          [1.        , 1.        , 1.        ],\n",
              "          [1.        , 1.        , 1.        ],\n",
              "          [1.        , 1.        , 1.        ]],\n",
              " \n",
              "         [[1.        , 1.        , 1.        ],\n",
              "          [1.        , 1.        , 1.        ],\n",
              "          [0.4786688 , 0.47525275, 0.5042892 ],\n",
              "          ...,\n",
              "          [1.        , 1.        , 1.        ],\n",
              "          [1.        , 1.        , 1.        ],\n",
              "          [1.        , 1.        , 1.        ]],\n",
              " \n",
              "         ...,\n",
              " \n",
              "         [[1.        , 1.        , 1.        ],\n",
              "          [1.        , 1.        , 1.        ],\n",
              "          [0.4786688 , 0.47525275, 0.5077053 ],\n",
              "          ...,\n",
              "          [1.        , 1.        , 1.        ],\n",
              "          [1.        , 1.        , 1.        ],\n",
              "          [1.        , 1.        , 1.        ]],\n",
              " \n",
              "         [[1.        , 1.        , 1.        ],\n",
              "          [1.        , 1.        , 1.        ],\n",
              "          [0.4786688 , 0.47525275, 0.5077053 ],\n",
              "          ...,\n",
              "          [1.        , 1.        , 1.        ],\n",
              "          [1.        , 1.        , 1.        ],\n",
              "          [1.        , 1.        , 1.        ]],\n",
              " \n",
              "         [[1.        , 1.        , 1.        ],\n",
              "          [1.        , 1.        , 1.        ],\n",
              "          [0.4786688 , 0.47525275, 0.5077053 ],\n",
              "          ...,\n",
              "          [1.        , 1.        , 1.        ],\n",
              "          [1.        , 1.        , 1.        ],\n",
              "          [1.        , 1.        , 1.        ]]],\n",
              " \n",
              " \n",
              "        [[[1.        , 1.        , 1.        ],\n",
              "          [1.        , 1.        , 1.        ],\n",
              "          [0.4786688 , 0.47354472, 0.50087315],\n",
              "          ...,\n",
              "          [1.        , 1.        , 1.        ],\n",
              "          [1.        , 1.        , 1.        ],\n",
              "          [1.        , 1.        , 1.        ]],\n",
              " \n",
              "         [[1.        , 1.        , 1.        ],\n",
              "          [1.        , 1.        , 1.        ],\n",
              "          [0.4786688 , 0.47354472, 0.50087315],\n",
              "          ...,\n",
              "          [1.        , 1.        , 1.        ],\n",
              "          [1.        , 1.        , 1.        ],\n",
              "          [1.        , 1.        , 1.        ]],\n",
              " \n",
              "         [[1.        , 1.        , 1.        ],\n",
              "          [1.        , 1.        , 1.        ],\n",
              "          [0.4786688 , 0.47354472, 0.50087315],\n",
              "          ...,\n",
              "          [1.        , 1.        , 1.        ],\n",
              "          [1.        , 1.        , 1.        ],\n",
              "          [1.        , 1.        , 1.        ]],\n",
              " \n",
              "         ...,\n",
              " \n",
              "         [[1.        , 1.        , 1.        ],\n",
              "          [1.        , 1.        , 1.        ],\n",
              "          [0.4786688 , 0.47354472, 0.5025812 ],\n",
              "          ...,\n",
              "          [1.        , 1.        , 1.        ],\n",
              "          [1.        , 1.        , 1.        ],\n",
              "          [1.        , 1.        , 1.        ]],\n",
              " \n",
              "         [[1.        , 1.        , 1.        ],\n",
              "          [1.        , 1.        , 1.        ],\n",
              "          [0.4786688 , 0.47354472, 0.5016304 ],\n",
              "          ...,\n",
              "          [1.        , 1.        , 1.        ],\n",
              "          [1.        , 1.        , 1.        ],\n",
              "          [1.        , 1.        , 1.        ]],\n",
              " \n",
              "         [[1.        , 1.        , 1.        ],\n",
              "          [1.        , 1.        , 1.        ],\n",
              "          [0.4786688 , 0.47354472, 0.50087315],\n",
              "          ...,\n",
              "          [1.        , 1.        , 1.        ],\n",
              "          [1.        , 1.        , 1.        ],\n",
              "          [1.        , 1.        , 1.        ]]],\n",
              " \n",
              " \n",
              "        [[[1.        , 1.        , 1.        ],\n",
              "          [1.        , 1.        , 1.        ],\n",
              "          [0.48037684, 0.47696078, 0.5094133 ],\n",
              "          ...,\n",
              "          [1.        , 1.        , 1.        ],\n",
              "          [1.        , 1.        , 1.        ],\n",
              "          [1.        , 1.        , 1.        ]],\n",
              " \n",
              "         [[1.        , 1.        , 1.        ],\n",
              "          [1.        , 1.        , 1.        ],\n",
              "          [0.48037684, 0.47696078, 0.5094133 ],\n",
              "          ...,\n",
              "          [1.        , 1.        , 1.        ],\n",
              "          [1.        , 1.        , 1.        ],\n",
              "          [1.        , 1.        , 1.        ]],\n",
              " \n",
              "         [[1.        , 1.        , 1.        ],\n",
              "          [1.        , 1.        , 1.        ],\n",
              "          [0.48037684, 0.47696078, 0.5094133 ],\n",
              "          ...,\n",
              "          [1.        , 1.        , 1.        ],\n",
              "          [1.        , 1.        , 1.        ],\n",
              "          [1.        , 1.        , 1.        ]],\n",
              " \n",
              "         ...,\n",
              " \n",
              "         [[1.        , 1.        , 1.        ],\n",
              "          [1.        , 1.        , 1.        ],\n",
              "          [0.48037684, 0.4786688 , 0.5145374 ],\n",
              "          ...,\n",
              "          [1.        , 1.        , 1.        ],\n",
              "          [1.        , 1.        , 1.        ],\n",
              "          [1.        , 1.        , 1.        ]],\n",
              " \n",
              "         [[1.        , 1.        , 1.        ],\n",
              "          [1.        , 1.        , 1.        ],\n",
              "          [0.48037684, 0.4786688 , 0.5135866 ],\n",
              "          ...,\n",
              "          [1.        , 1.        , 1.        ],\n",
              "          [1.        , 1.        , 1.        ],\n",
              "          [1.        , 1.        , 1.        ]],\n",
              " \n",
              "         [[1.        , 1.        , 1.        ],\n",
              "          [1.        , 1.        , 1.        ],\n",
              "          [0.48037684, 0.4786688 , 0.51282936],\n",
              "          ...,\n",
              "          [1.        , 1.        , 1.        ],\n",
              "          [1.        , 1.        , 1.        ],\n",
              "          [1.        , 1.        , 1.        ]]],\n",
              " \n",
              " \n",
              "        ...,\n",
              " \n",
              " \n",
              "        [[[1.        , 1.        , 1.        ],\n",
              "          [1.        , 1.        , 1.        ],\n",
              "          [0.4786688 , 0.47525275, 0.5077053 ],\n",
              "          ...,\n",
              "          [1.        , 1.        , 1.        ],\n",
              "          [1.        , 1.        , 1.        ],\n",
              "          [1.        , 1.        , 1.        ]],\n",
              " \n",
              "         [[1.        , 1.        , 1.        ],\n",
              "          [1.        , 1.        , 1.        ],\n",
              "          [0.4786688 , 0.47525275, 0.5077053 ],\n",
              "          ...,\n",
              "          [1.        , 1.        , 1.        ],\n",
              "          [1.        , 1.        , 1.        ],\n",
              "          [1.        , 1.        , 1.        ]],\n",
              " \n",
              "         [[1.        , 1.        , 1.        ],\n",
              "          [1.        , 1.        , 1.        ],\n",
              "          [0.4786688 , 0.47525275, 0.5077053 ],\n",
              "          ...,\n",
              "          [1.        , 1.        , 1.        ],\n",
              "          [1.        , 1.        , 1.        ],\n",
              "          [1.        , 1.        , 1.        ]],\n",
              " \n",
              "         ...,\n",
              " \n",
              "         [[1.        , 1.        , 1.        ],\n",
              "          [1.        , 1.        , 1.        ],\n",
              "          [0.4786688 , 0.47525275, 0.50599724],\n",
              "          ...,\n",
              "          [1.        , 1.        , 1.        ],\n",
              "          [1.        , 1.        , 1.        ],\n",
              "          [1.        , 1.        , 1.        ]],\n",
              " \n",
              "         [[1.        , 1.        , 1.        ],\n",
              "          [1.        , 1.        , 1.        ],\n",
              "          [0.4786688 , 0.47525275, 0.50599724],\n",
              "          ...,\n",
              "          [1.        , 1.        , 1.        ],\n",
              "          [1.        , 1.        , 1.        ],\n",
              "          [1.        , 1.        , 1.        ]],\n",
              " \n",
              "         [[1.        , 1.        , 1.        ],\n",
              "          [1.        , 1.        , 1.        ],\n",
              "          [0.4786688 , 0.47525275, 0.50599724],\n",
              "          ...,\n",
              "          [1.        , 1.        , 1.        ],\n",
              "          [1.        , 1.        , 1.        ],\n",
              "          [1.        , 1.        , 1.        ]]],\n",
              " \n",
              " \n",
              "        [[[1.        , 1.        , 1.        ],\n",
              "          [1.        , 1.        , 1.        ],\n",
              "          [0.4786688 , 0.47525275, 0.5077053 ],\n",
              "          ...,\n",
              "          [1.        , 1.        , 1.        ],\n",
              "          [1.        , 1.        , 1.        ],\n",
              "          [1.        , 1.        , 1.        ]],\n",
              " \n",
              "         [[1.        , 1.        , 1.        ],\n",
              "          [1.        , 1.        , 1.        ],\n",
              "          [0.4786688 , 0.47525275, 0.5077053 ],\n",
              "          ...,\n",
              "          [1.        , 1.        , 1.        ],\n",
              "          [1.        , 1.        , 1.        ],\n",
              "          [1.        , 1.        , 1.        ]],\n",
              " \n",
              "         [[1.        , 1.        , 1.        ],\n",
              "          [1.        , 1.        , 1.        ],\n",
              "          [0.4786688 , 0.47525275, 0.5077053 ],\n",
              "          ...,\n",
              "          [1.        , 1.        , 1.        ],\n",
              "          [1.        , 1.        , 1.        ],\n",
              "          [1.        , 1.        , 1.        ]],\n",
              " \n",
              "         ...,\n",
              " \n",
              "         [[1.        , 1.        , 1.        ],\n",
              "          [1.        , 1.        , 1.        ],\n",
              "          [0.4786688 , 0.47525275, 0.5077053 ],\n",
              "          ...,\n",
              "          [1.        , 1.        , 1.        ],\n",
              "          [1.        , 1.        , 1.        ],\n",
              "          [1.        , 1.        , 1.        ]],\n",
              " \n",
              "         [[1.        , 1.        , 1.        ],\n",
              "          [1.        , 1.        , 1.        ],\n",
              "          [0.4786688 , 0.47525275, 0.5067545 ],\n",
              "          ...,\n",
              "          [1.        , 1.        , 1.        ],\n",
              "          [1.        , 1.        , 1.        ],\n",
              "          [1.        , 1.        , 1.        ]],\n",
              " \n",
              "         [[1.        , 1.        , 1.        ],\n",
              "          [1.        , 1.        , 1.        ],\n",
              "          [0.4786688 , 0.47525275, 0.50599724],\n",
              "          ...,\n",
              "          [1.        , 1.        , 1.        ],\n",
              "          [1.        , 1.        , 1.        ],\n",
              "          [1.        , 1.        , 1.        ]]],\n",
              " \n",
              " \n",
              "        [[[1.        , 1.        , 1.        ],\n",
              "          [1.        , 1.        , 1.        ],\n",
              "          [0.4786688 , 0.47354472, 0.50087315],\n",
              "          ...,\n",
              "          [1.        , 1.        , 1.        ],\n",
              "          [1.        , 1.        , 1.        ],\n",
              "          [1.        , 1.        , 1.        ]],\n",
              " \n",
              "         [[1.        , 1.        , 1.        ],\n",
              "          [1.        , 1.        , 1.        ],\n",
              "          [0.4786688 , 0.47354472, 0.50087315],\n",
              "          ...,\n",
              "          [1.        , 1.        , 1.        ],\n",
              "          [1.        , 1.        , 1.        ],\n",
              "          [1.        , 1.        , 1.        ]],\n",
              " \n",
              "         [[1.        , 1.        , 1.        ],\n",
              "          [1.        , 1.        , 1.        ],\n",
              "          [0.4786688 , 0.47354472, 0.50087315],\n",
              "          ...,\n",
              "          [1.        , 1.        , 1.        ],\n",
              "          [1.        , 1.        , 1.        ],\n",
              "          [1.        , 1.        , 1.        ]],\n",
              " \n",
              "         ...,\n",
              " \n",
              "         [[1.        , 1.        , 1.        ],\n",
              "          [1.        , 1.        , 1.        ],\n",
              "          [0.4786688 , 0.47354472, 0.5042892 ],\n",
              "          ...,\n",
              "          [1.        , 1.        , 1.        ],\n",
              "          [1.        , 1.        , 1.        ],\n",
              "          [1.        , 1.        , 1.        ]],\n",
              " \n",
              "         [[1.        , 1.        , 1.        ],\n",
              "          [1.        , 1.        , 1.        ],\n",
              "          [0.4786688 , 0.47354472, 0.5042892 ],\n",
              "          ...,\n",
              "          [1.        , 1.        , 1.        ],\n",
              "          [1.        , 1.        , 1.        ],\n",
              "          [1.        , 1.        , 1.        ]],\n",
              " \n",
              "         [[1.        , 1.        , 1.        ],\n",
              "          [1.        , 1.        , 1.        ],\n",
              "          [0.4786688 , 0.47354472, 0.5042892 ],\n",
              "          ...,\n",
              "          [1.        , 1.        , 1.        ],\n",
              "          [1.        , 1.        , 1.        ],\n",
              "          [1.        , 1.        , 1.        ]]]], dtype=float32),\n",
              " array([0, 0, 0, 0, 0, 0, 0, 0, 0, 0, 0, 0, 0, 0, 0, 0, 0, 0, 0],\n",
              "       dtype=int32))"
            ]
          },
          "metadata": {},
          "execution_count": 85
        }
      ],
      "source": [
        "data.as_numpy_iterator().next()"
      ]
    },
    {
      "cell_type": "code",
      "execution_count": 86,
      "metadata": {
        "colab": {
          "base_uri": "https://localhost:8080/"
        },
        "id": "XWq3gB5-gzmV",
        "outputId": "54e700d3-878e-40ae-f899-2f46b622ff2b"
      },
      "outputs": [
        {
          "output_type": "execute_result",
          "data": {
            "text/plain": [
              "1.0"
            ]
          },
          "metadata": {},
          "execution_count": 86
        }
      ],
      "source": [
        "data.as_numpy_iterator().next()[0].max()"
      ]
    },
    {
      "cell_type": "markdown",
      "metadata": {
        "id": "9ZW1MRFsgzmV"
      },
      "source": [
        "# Split Data:"
      ]
    },
    {
      "cell_type": "code",
      "execution_count": 87,
      "metadata": {
        "colab": {
          "base_uri": "https://localhost:8080/"
        },
        "id": "oPzHQgJGg5CC",
        "outputId": "6fc941ca-3d57-4e5e-c127-c29129a3eaa5"
      },
      "outputs": [
        {
          "output_type": "execute_result",
          "data": {
            "text/plain": [
              "<_MapDataset element_spec=(TensorSpec(shape=(None, 256, 256, 3), dtype=tf.float32, name=None), TensorSpec(shape=(None,), dtype=tf.int32, name=None))>"
            ]
          },
          "metadata": {},
          "execution_count": 87
        }
      ],
      "source": [
        "data"
      ]
    },
    {
      "cell_type": "code",
      "execution_count": 88,
      "metadata": {
        "id": "oQchhACJgzmW"
      },
      "outputs": [],
      "source": [
        "train_size=int(len(data)*.7)\n",
        "val_size=int(len(data)*.2)\n",
        "test_size=int(len(data)*.1)\n"
      ]
    },
    {
      "cell_type": "code",
      "execution_count": 89,
      "metadata": {
        "colab": {
          "base_uri": "https://localhost:8080/"
        },
        "id": "6wN-iFBHg9hh",
        "outputId": "40c39e3b-8a8b-428d-c75c-b63b9c694a96"
      },
      "outputs": [
        {
          "output_type": "execute_result",
          "data": {
            "text/plain": [
              "90"
            ]
          },
          "metadata": {},
          "execution_count": 89
        }
      ],
      "source": [
        "len(data)"
      ]
    },
    {
      "cell_type": "code",
      "source": [
        "data.shuffle"
      ],
      "metadata": {
        "colab": {
          "base_uri": "https://localhost:8080/"
        },
        "id": "wbGh1U07wLEV",
        "outputId": "e695410a-0a88-4363-fbe9-b1b1b204e94b"
      },
      "execution_count": 90,
      "outputs": [
        {
          "output_type": "execute_result",
          "data": {
            "text/plain": [
              "<bound method DatasetV2.shuffle of <_MapDataset element_spec=(TensorSpec(shape=(None, 256, 256, 3), dtype=tf.float32, name=None), TensorSpec(shape=(None,), dtype=tf.int32, name=None))>>"
            ]
          },
          "metadata": {},
          "execution_count": 90
        }
      ]
    },
    {
      "cell_type": "code",
      "execution_count": 91,
      "metadata": {
        "id": "TqZveYgogzmW"
      },
      "outputs": [],
      "source": [
        "train = data.take(train_size)\n",
        "val= data.skip(train_size).take(val_size)\n",
        "test= data.skip(train_size+val_size).take(test_size)\n"
      ]
    },
    {
      "cell_type": "code",
      "execution_count": 92,
      "metadata": {
        "colab": {
          "base_uri": "https://localhost:8080/"
        },
        "id": "mD2coXDUiQ-y",
        "outputId": "22cd8b89-d2b2-43e8-9a90-14d098026265"
      },
      "outputs": [
        {
          "output_type": "execute_result",
          "data": {
            "text/plain": [
              "62"
            ]
          },
          "metadata": {},
          "execution_count": 92
        }
      ],
      "source": [
        "len(train)"
      ]
    },
    {
      "cell_type": "markdown",
      "metadata": {
        "id": "EWzxE02WgzmW"
      },
      "source": [
        "# Deep Learning Model"
      ]
    },
    {
      "cell_type": "code",
      "execution_count": 93,
      "metadata": {
        "id": "FC3BohrogzmX"
      },
      "outputs": [],
      "source": [
        "from tensorflow.keras.models import Sequential\n",
        "from tensorflow.keras.layers import Conv2D,MaxPooling2D,Dense,Flatten"
      ]
    },
    {
      "cell_type": "code",
      "execution_count": 94,
      "metadata": {
        "id": "zdOf0g7RgzmX"
      },
      "outputs": [],
      "source": [
        "model = Sequential()"
      ]
    },
    {
      "cell_type": "code",
      "execution_count": 95,
      "metadata": {
        "id": "lTa95qaQgzmX"
      },
      "outputs": [],
      "source": [
        "model.add(Conv2D(16,(3,3),1,activation='relu',input_shape=(256,256,3)))\n",
        "model.add(MaxPooling2D())\n",
        "\n",
        "model.add(Conv2D(32,(3,3),1,activation='relu'))\n",
        "model.add(MaxPooling2D())\n",
        "\n",
        "model.add(Conv2D(16,(3,3),1,activation='relu'))\n",
        "model.add(MaxPooling2D())\n",
        "\n",
        "model.add(Flatten())\n",
        "\n",
        "model.add(Dense(256,activation='relu'))\n",
        "model.add(Dense(1,activation='sigmoid'))\n"
      ]
    },
    {
      "cell_type": "code",
      "execution_count": 96,
      "metadata": {
        "id": "sMkjddOCgzmY"
      },
      "outputs": [],
      "source": [
        "model.compile('adam',loss=tf.losses.BinaryCrossentropy(),metrics=['accuracy'])"
      ]
    },
    {
      "cell_type": "code",
      "execution_count": 97,
      "metadata": {
        "colab": {
          "base_uri": "https://localhost:8080/"
        },
        "id": "XZvDnbEygzmY",
        "outputId": "56d0fab7-2fce-441a-ae60-5726a5ea59e1"
      },
      "outputs": [
        {
          "output_type": "stream",
          "name": "stdout",
          "text": [
            "Model: \"sequential_1\"\n",
            "_________________________________________________________________\n",
            " Layer (type)                Output Shape              Param #   \n",
            "=================================================================\n",
            " conv2d_3 (Conv2D)           (None, 254, 254, 16)      448       \n",
            "                                                                 \n",
            " max_pooling2d_3 (MaxPooling  (None, 127, 127, 16)     0         \n",
            " 2D)                                                             \n",
            "                                                                 \n",
            " conv2d_4 (Conv2D)           (None, 125, 125, 32)      4640      \n",
            "                                                                 \n",
            " max_pooling2d_4 (MaxPooling  (None, 62, 62, 32)       0         \n",
            " 2D)                                                             \n",
            "                                                                 \n",
            " conv2d_5 (Conv2D)           (None, 60, 60, 16)        4624      \n",
            "                                                                 \n",
            " max_pooling2d_5 (MaxPooling  (None, 30, 30, 16)       0         \n",
            " 2D)                                                             \n",
            "                                                                 \n",
            " flatten_1 (Flatten)         (None, 14400)             0         \n",
            "                                                                 \n",
            " dense_2 (Dense)             (None, 256)               3686656   \n",
            "                                                                 \n",
            " dense_3 (Dense)             (None, 1)                 257       \n",
            "                                                                 \n",
            "=================================================================\n",
            "Total params: 3,696,625\n",
            "Trainable params: 3,696,625\n",
            "Non-trainable params: 0\n",
            "_________________________________________________________________\n"
          ]
        }
      ],
      "source": [
        "model.summary()"
      ]
    },
    {
      "cell_type": "markdown",
      "metadata": {
        "id": "uJ7Cy8RogzmZ"
      },
      "source": [
        "# Train"
      ]
    },
    {
      "cell_type": "code",
      "execution_count": 98,
      "metadata": {
        "id": "Aa6ODbxNgzmZ"
      },
      "outputs": [],
      "source": [
        "logdir='logs'"
      ]
    },
    {
      "cell_type": "code",
      "execution_count": 99,
      "metadata": {
        "id": "f3EsFr4OgzmZ"
      },
      "outputs": [],
      "source": [
        "tensorboard_callback=tf.keras.callbacks.TensorBoard(log_dir=logdir)"
      ]
    },
    {
      "cell_type": "code",
      "execution_count": 100,
      "metadata": {
        "colab": {
          "base_uri": "https://localhost:8080/",
          "height": 677
        },
        "id": "rkkLdCMygzma",
        "outputId": "04fa39f6-9dfc-4d4f-8c2a-988767f33ea0"
      },
      "outputs": [
        {
          "output_type": "stream",
          "name": "stdout",
          "text": [
            "Epoch 1/20\n",
            "62/62 [==============================] - 91s 1s/step - loss: 5.4162 - accuracy: 0.8701 - val_loss: 0.5180 - val_accuracy: 1.0000\n",
            "Epoch 2/20\n",
            "62/62 [==============================] - 97s 2s/step - loss: 0.7348 - accuracy: 0.4559 - val_loss: 0.7232 - val_accuracy: 0.0000e+00\n",
            "Epoch 3/20\n",
            "62/62 [==============================] - 87s 1s/step - loss: 0.6830 - accuracy: 0.7258 - val_loss: 0.7502 - val_accuracy: 0.0000e+00\n",
            "Epoch 4/20\n",
            "62/62 [==============================] - 87s 1s/step - loss: 0.6724 - accuracy: 0.7258 - val_loss: 0.7796 - val_accuracy: 0.0000e+00\n",
            "Epoch 5/20\n",
            "62/62 [==============================] - 98s 2s/step - loss: 1.0021 - accuracy: 0.7776 - val_loss: 0.5755 - val_accuracy: 1.0000\n",
            "Epoch 6/20\n",
            "62/62 [==============================] - 85s 1s/step - loss: 0.6883 - accuracy: 0.5594 - val_loss: 0.6515 - val_accuracy: 1.0000\n",
            "Epoch 7/20\n",
            "62/62 [==============================] - 95s 2s/step - loss: 1.0123 - accuracy: 0.5806 - val_loss: 0.8184 - val_accuracy: 0.0000e+00\n",
            "Epoch 8/20\n",
            "62/62 [==============================] - 95s 2s/step - loss: 0.6498 - accuracy: 0.7258 - val_loss: 0.8477 - val_accuracy: 0.0000e+00\n",
            "Epoch 9/20\n",
            "62/62 [==============================] - 83s 1s/step - loss: 0.6424 - accuracy: 0.7258 - val_loss: 0.8748 - val_accuracy: 0.0000e+00\n",
            "Epoch 10/20\n"
          ]
        },
        {
          "output_type": "error",
          "ename": "KeyboardInterrupt",
          "evalue": "ignored",
          "traceback": [
            "\u001b[0;31m---------------------------------------------------------------------------\u001b[0m",
            "\u001b[0;31mKeyboardInterrupt\u001b[0m                         Traceback (most recent call last)",
            "\u001b[0;32m<ipython-input-100-1a8035b9b9df>\u001b[0m in \u001b[0;36m<cell line: 1>\u001b[0;34m()\u001b[0m\n\u001b[0;32m----> 1\u001b[0;31m \u001b[0mhist\u001b[0m\u001b[0;34m=\u001b[0m\u001b[0mmodel\u001b[0m\u001b[0;34m.\u001b[0m\u001b[0mfit\u001b[0m\u001b[0;34m(\u001b[0m\u001b[0mtrain\u001b[0m\u001b[0;34m,\u001b[0m\u001b[0mepochs\u001b[0m\u001b[0;34m=\u001b[0m\u001b[0;36m20\u001b[0m\u001b[0;34m,\u001b[0m\u001b[0mvalidation_data\u001b[0m\u001b[0;34m=\u001b[0m\u001b[0mval\u001b[0m\u001b[0;34m,\u001b[0m\u001b[0mcallbacks\u001b[0m\u001b[0;34m=\u001b[0m\u001b[0;34m[\u001b[0m\u001b[0mtensorboard_callback\u001b[0m\u001b[0;34m]\u001b[0m\u001b[0;34m)\u001b[0m\u001b[0;34m\u001b[0m\u001b[0;34m\u001b[0m\u001b[0m\n\u001b[0m",
            "\u001b[0;32m/usr/local/lib/python3.10/dist-packages/keras/utils/traceback_utils.py\u001b[0m in \u001b[0;36merror_handler\u001b[0;34m(*args, **kwargs)\u001b[0m\n\u001b[1;32m     63\u001b[0m         \u001b[0mfiltered_tb\u001b[0m \u001b[0;34m=\u001b[0m \u001b[0;32mNone\u001b[0m\u001b[0;34m\u001b[0m\u001b[0;34m\u001b[0m\u001b[0m\n\u001b[1;32m     64\u001b[0m         \u001b[0;32mtry\u001b[0m\u001b[0;34m:\u001b[0m\u001b[0;34m\u001b[0m\u001b[0;34m\u001b[0m\u001b[0m\n\u001b[0;32m---> 65\u001b[0;31m             \u001b[0;32mreturn\u001b[0m \u001b[0mfn\u001b[0m\u001b[0;34m(\u001b[0m\u001b[0;34m*\u001b[0m\u001b[0margs\u001b[0m\u001b[0;34m,\u001b[0m \u001b[0;34m**\u001b[0m\u001b[0mkwargs\u001b[0m\u001b[0;34m)\u001b[0m\u001b[0;34m\u001b[0m\u001b[0;34m\u001b[0m\u001b[0m\n\u001b[0m\u001b[1;32m     66\u001b[0m         \u001b[0;32mexcept\u001b[0m \u001b[0mException\u001b[0m \u001b[0;32mas\u001b[0m \u001b[0me\u001b[0m\u001b[0;34m:\u001b[0m\u001b[0;34m\u001b[0m\u001b[0;34m\u001b[0m\u001b[0m\n\u001b[1;32m     67\u001b[0m             \u001b[0mfiltered_tb\u001b[0m \u001b[0;34m=\u001b[0m \u001b[0m_process_traceback_frames\u001b[0m\u001b[0;34m(\u001b[0m\u001b[0me\u001b[0m\u001b[0;34m.\u001b[0m\u001b[0m__traceback__\u001b[0m\u001b[0;34m)\u001b[0m\u001b[0;34m\u001b[0m\u001b[0;34m\u001b[0m\u001b[0m\n",
            "\u001b[0;32m/usr/local/lib/python3.10/dist-packages/keras/engine/training.py\u001b[0m in \u001b[0;36mfit\u001b[0;34m(self, x, y, batch_size, epochs, verbose, callbacks, validation_split, validation_data, shuffle, class_weight, sample_weight, initial_epoch, steps_per_epoch, validation_steps, validation_batch_size, validation_freq, max_queue_size, workers, use_multiprocessing)\u001b[0m\n\u001b[1;32m   1683\u001b[0m                         ):\n\u001b[1;32m   1684\u001b[0m                             \u001b[0mcallbacks\u001b[0m\u001b[0;34m.\u001b[0m\u001b[0mon_train_batch_begin\u001b[0m\u001b[0;34m(\u001b[0m\u001b[0mstep\u001b[0m\u001b[0;34m)\u001b[0m\u001b[0;34m\u001b[0m\u001b[0;34m\u001b[0m\u001b[0m\n\u001b[0;32m-> 1685\u001b[0;31m                             \u001b[0mtmp_logs\u001b[0m \u001b[0;34m=\u001b[0m \u001b[0mself\u001b[0m\u001b[0;34m.\u001b[0m\u001b[0mtrain_function\u001b[0m\u001b[0;34m(\u001b[0m\u001b[0miterator\u001b[0m\u001b[0;34m)\u001b[0m\u001b[0;34m\u001b[0m\u001b[0;34m\u001b[0m\u001b[0m\n\u001b[0m\u001b[1;32m   1686\u001b[0m                             \u001b[0;32mif\u001b[0m \u001b[0mdata_handler\u001b[0m\u001b[0;34m.\u001b[0m\u001b[0mshould_sync\u001b[0m\u001b[0;34m:\u001b[0m\u001b[0;34m\u001b[0m\u001b[0;34m\u001b[0m\u001b[0m\n\u001b[1;32m   1687\u001b[0m                                 \u001b[0mcontext\u001b[0m\u001b[0;34m.\u001b[0m\u001b[0masync_wait\u001b[0m\u001b[0;34m(\u001b[0m\u001b[0;34m)\u001b[0m\u001b[0;34m\u001b[0m\u001b[0;34m\u001b[0m\u001b[0m\n",
            "\u001b[0;32m/usr/local/lib/python3.10/dist-packages/tensorflow/python/util/traceback_utils.py\u001b[0m in \u001b[0;36merror_handler\u001b[0;34m(*args, **kwargs)\u001b[0m\n\u001b[1;32m    148\u001b[0m     \u001b[0mfiltered_tb\u001b[0m \u001b[0;34m=\u001b[0m \u001b[0;32mNone\u001b[0m\u001b[0;34m\u001b[0m\u001b[0;34m\u001b[0m\u001b[0m\n\u001b[1;32m    149\u001b[0m     \u001b[0;32mtry\u001b[0m\u001b[0;34m:\u001b[0m\u001b[0;34m\u001b[0m\u001b[0;34m\u001b[0m\u001b[0m\n\u001b[0;32m--> 150\u001b[0;31m       \u001b[0;32mreturn\u001b[0m \u001b[0mfn\u001b[0m\u001b[0;34m(\u001b[0m\u001b[0;34m*\u001b[0m\u001b[0margs\u001b[0m\u001b[0;34m,\u001b[0m \u001b[0;34m**\u001b[0m\u001b[0mkwargs\u001b[0m\u001b[0;34m)\u001b[0m\u001b[0;34m\u001b[0m\u001b[0;34m\u001b[0m\u001b[0m\n\u001b[0m\u001b[1;32m    151\u001b[0m     \u001b[0;32mexcept\u001b[0m \u001b[0mException\u001b[0m \u001b[0;32mas\u001b[0m \u001b[0me\u001b[0m\u001b[0;34m:\u001b[0m\u001b[0;34m\u001b[0m\u001b[0;34m\u001b[0m\u001b[0m\n\u001b[1;32m    152\u001b[0m       \u001b[0mfiltered_tb\u001b[0m \u001b[0;34m=\u001b[0m \u001b[0m_process_traceback_frames\u001b[0m\u001b[0;34m(\u001b[0m\u001b[0me\u001b[0m\u001b[0;34m.\u001b[0m\u001b[0m__traceback__\u001b[0m\u001b[0;34m)\u001b[0m\u001b[0;34m\u001b[0m\u001b[0;34m\u001b[0m\u001b[0m\n",
            "\u001b[0;32m/usr/local/lib/python3.10/dist-packages/tensorflow/python/eager/polymorphic_function/polymorphic_function.py\u001b[0m in \u001b[0;36m__call__\u001b[0;34m(self, *args, **kwds)\u001b[0m\n\u001b[1;32m    892\u001b[0m \u001b[0;34m\u001b[0m\u001b[0m\n\u001b[1;32m    893\u001b[0m       \u001b[0;32mwith\u001b[0m \u001b[0mOptionalXlaContext\u001b[0m\u001b[0;34m(\u001b[0m\u001b[0mself\u001b[0m\u001b[0;34m.\u001b[0m\u001b[0m_jit_compile\u001b[0m\u001b[0;34m)\u001b[0m\u001b[0;34m:\u001b[0m\u001b[0;34m\u001b[0m\u001b[0;34m\u001b[0m\u001b[0m\n\u001b[0;32m--> 894\u001b[0;31m         \u001b[0mresult\u001b[0m \u001b[0;34m=\u001b[0m \u001b[0mself\u001b[0m\u001b[0;34m.\u001b[0m\u001b[0m_call\u001b[0m\u001b[0;34m(\u001b[0m\u001b[0;34m*\u001b[0m\u001b[0margs\u001b[0m\u001b[0;34m,\u001b[0m \u001b[0;34m**\u001b[0m\u001b[0mkwds\u001b[0m\u001b[0;34m)\u001b[0m\u001b[0;34m\u001b[0m\u001b[0;34m\u001b[0m\u001b[0m\n\u001b[0m\u001b[1;32m    895\u001b[0m \u001b[0;34m\u001b[0m\u001b[0m\n\u001b[1;32m    896\u001b[0m       \u001b[0mnew_tracing_count\u001b[0m \u001b[0;34m=\u001b[0m \u001b[0mself\u001b[0m\u001b[0;34m.\u001b[0m\u001b[0mexperimental_get_tracing_count\u001b[0m\u001b[0;34m(\u001b[0m\u001b[0;34m)\u001b[0m\u001b[0;34m\u001b[0m\u001b[0;34m\u001b[0m\u001b[0m\n",
            "\u001b[0;32m/usr/local/lib/python3.10/dist-packages/tensorflow/python/eager/polymorphic_function/polymorphic_function.py\u001b[0m in \u001b[0;36m_call\u001b[0;34m(self, *args, **kwds)\u001b[0m\n\u001b[1;32m    924\u001b[0m       \u001b[0;31m# In this case we have created variables on the first call, so we run the\u001b[0m\u001b[0;34m\u001b[0m\u001b[0;34m\u001b[0m\u001b[0m\n\u001b[1;32m    925\u001b[0m       \u001b[0;31m# defunned version which is guaranteed to never create variables.\u001b[0m\u001b[0;34m\u001b[0m\u001b[0;34m\u001b[0m\u001b[0m\n\u001b[0;32m--> 926\u001b[0;31m       \u001b[0;32mreturn\u001b[0m \u001b[0mself\u001b[0m\u001b[0;34m.\u001b[0m\u001b[0m_no_variable_creation_fn\u001b[0m\u001b[0;34m(\u001b[0m\u001b[0;34m*\u001b[0m\u001b[0margs\u001b[0m\u001b[0;34m,\u001b[0m \u001b[0;34m**\u001b[0m\u001b[0mkwds\u001b[0m\u001b[0;34m)\u001b[0m  \u001b[0;31m# pylint: disable=not-callable\u001b[0m\u001b[0;34m\u001b[0m\u001b[0;34m\u001b[0m\u001b[0m\n\u001b[0m\u001b[1;32m    927\u001b[0m     \u001b[0;32melif\u001b[0m \u001b[0mself\u001b[0m\u001b[0;34m.\u001b[0m\u001b[0m_variable_creation_fn\u001b[0m \u001b[0;32mis\u001b[0m \u001b[0;32mnot\u001b[0m \u001b[0;32mNone\u001b[0m\u001b[0;34m:\u001b[0m\u001b[0;34m\u001b[0m\u001b[0;34m\u001b[0m\u001b[0m\n\u001b[1;32m    928\u001b[0m       \u001b[0;31m# Release the lock early so that multiple threads can perform the call\u001b[0m\u001b[0;34m\u001b[0m\u001b[0;34m\u001b[0m\u001b[0m\n",
            "\u001b[0;32m/usr/local/lib/python3.10/dist-packages/tensorflow/python/eager/polymorphic_function/tracing_compiler.py\u001b[0m in \u001b[0;36m__call__\u001b[0;34m(self, *args, **kwargs)\u001b[0m\n\u001b[1;32m    141\u001b[0m       (concrete_function,\n\u001b[1;32m    142\u001b[0m        filtered_flat_args) = self._maybe_define_function(args, kwargs)\n\u001b[0;32m--> 143\u001b[0;31m     return concrete_function._call_flat(\n\u001b[0m\u001b[1;32m    144\u001b[0m         filtered_flat_args, captured_inputs=concrete_function.captured_inputs)  # pylint: disable=protected-access\n\u001b[1;32m    145\u001b[0m \u001b[0;34m\u001b[0m\u001b[0m\n",
            "\u001b[0;32m/usr/local/lib/python3.10/dist-packages/tensorflow/python/eager/polymorphic_function/monomorphic_function.py\u001b[0m in \u001b[0;36m_call_flat\u001b[0;34m(self, args, captured_inputs, cancellation_manager)\u001b[0m\n\u001b[1;32m   1755\u001b[0m         and executing_eagerly):\n\u001b[1;32m   1756\u001b[0m       \u001b[0;31m# No tape is watching; skip to running the function.\u001b[0m\u001b[0;34m\u001b[0m\u001b[0;34m\u001b[0m\u001b[0m\n\u001b[0;32m-> 1757\u001b[0;31m       return self._build_call_outputs(self._inference_function.call(\n\u001b[0m\u001b[1;32m   1758\u001b[0m           ctx, args, cancellation_manager=cancellation_manager))\n\u001b[1;32m   1759\u001b[0m     forward_backward = self._select_forward_and_backward_functions(\n",
            "\u001b[0;32m/usr/local/lib/python3.10/dist-packages/tensorflow/python/eager/polymorphic_function/monomorphic_function.py\u001b[0m in \u001b[0;36mcall\u001b[0;34m(self, ctx, args, cancellation_manager)\u001b[0m\n\u001b[1;32m    379\u001b[0m       \u001b[0;32mwith\u001b[0m \u001b[0m_InterpolateFunctionError\u001b[0m\u001b[0;34m(\u001b[0m\u001b[0mself\u001b[0m\u001b[0;34m)\u001b[0m\u001b[0;34m:\u001b[0m\u001b[0;34m\u001b[0m\u001b[0;34m\u001b[0m\u001b[0m\n\u001b[1;32m    380\u001b[0m         \u001b[0;32mif\u001b[0m \u001b[0mcancellation_manager\u001b[0m \u001b[0;32mis\u001b[0m \u001b[0;32mNone\u001b[0m\u001b[0;34m:\u001b[0m\u001b[0;34m\u001b[0m\u001b[0;34m\u001b[0m\u001b[0m\n\u001b[0;32m--> 381\u001b[0;31m           outputs = execute.execute(\n\u001b[0m\u001b[1;32m    382\u001b[0m               \u001b[0mstr\u001b[0m\u001b[0;34m(\u001b[0m\u001b[0mself\u001b[0m\u001b[0;34m.\u001b[0m\u001b[0msignature\u001b[0m\u001b[0;34m.\u001b[0m\u001b[0mname\u001b[0m\u001b[0;34m)\u001b[0m\u001b[0;34m,\u001b[0m\u001b[0;34m\u001b[0m\u001b[0;34m\u001b[0m\u001b[0m\n\u001b[1;32m    383\u001b[0m               \u001b[0mnum_outputs\u001b[0m\u001b[0;34m=\u001b[0m\u001b[0mself\u001b[0m\u001b[0;34m.\u001b[0m\u001b[0m_num_outputs\u001b[0m\u001b[0;34m,\u001b[0m\u001b[0;34m\u001b[0m\u001b[0;34m\u001b[0m\u001b[0m\n",
            "\u001b[0;32m/usr/local/lib/python3.10/dist-packages/tensorflow/python/eager/execute.py\u001b[0m in \u001b[0;36mquick_execute\u001b[0;34m(op_name, num_outputs, inputs, attrs, ctx, name)\u001b[0m\n\u001b[1;32m     50\u001b[0m   \u001b[0;32mtry\u001b[0m\u001b[0;34m:\u001b[0m\u001b[0;34m\u001b[0m\u001b[0;34m\u001b[0m\u001b[0m\n\u001b[1;32m     51\u001b[0m     \u001b[0mctx\u001b[0m\u001b[0;34m.\u001b[0m\u001b[0mensure_initialized\u001b[0m\u001b[0;34m(\u001b[0m\u001b[0;34m)\u001b[0m\u001b[0;34m\u001b[0m\u001b[0;34m\u001b[0m\u001b[0m\n\u001b[0;32m---> 52\u001b[0;31m     tensors = pywrap_tfe.TFE_Py_Execute(ctx._handle, device_name, op_name,\n\u001b[0m\u001b[1;32m     53\u001b[0m                                         inputs, attrs, num_outputs)\n\u001b[1;32m     54\u001b[0m   \u001b[0;32mexcept\u001b[0m \u001b[0mcore\u001b[0m\u001b[0;34m.\u001b[0m\u001b[0m_NotOkStatusException\u001b[0m \u001b[0;32mas\u001b[0m \u001b[0me\u001b[0m\u001b[0;34m:\u001b[0m\u001b[0;34m\u001b[0m\u001b[0;34m\u001b[0m\u001b[0m\n",
            "\u001b[0;31mKeyboardInterrupt\u001b[0m: "
          ]
        }
      ],
      "source": [
        "hist=model.fit(train,epochs=20,validation_data=val,callbacks=[tensorboard_callback])"
      ]
    },
    {
      "cell_type": "code",
      "execution_count": null,
      "metadata": {
        "colab": {
          "base_uri": "https://localhost:8080/"
        },
        "id": "AyFNTlEegzma",
        "outputId": "9943cbfe-66e5-4597-8a01-2d057a45c721"
      },
      "outputs": [
        {
          "output_type": "execute_result",
          "data": {
            "text/plain": [
              "{'loss': [0.7043412923812866,\n",
              "  0.5976036190986633,\n",
              "  0.47427883744239807,\n",
              "  0.3785277009010315,\n",
              "  0.30638670921325684,\n",
              "  0.23856982588768005,\n",
              "  0.18146370351314545,\n",
              "  0.12498851865530014,\n",
              "  0.08398325741291046,\n",
              "  0.0731918215751648,\n",
              "  0.02981138788163662,\n",
              "  0.012515675276517868,\n",
              "  0.0063825082033872604,\n",
              "  0.014294648543000221,\n",
              "  0.027118820697069168,\n",
              "  0.012897913344204426,\n",
              "  0.00965472124516964,\n",
              "  0.008986202999949455,\n",
              "  0.06783182919025421,\n",
              "  0.06165340915322304],\n",
              " 'accuracy': [0.5827702879905701,\n",
              "  0.6866554021835327,\n",
              "  0.775337815284729,\n",
              "  0.8505067825317383,\n",
              "  0.8640202879905701,\n",
              "  0.9113175868988037,\n",
              "  0.9358108043670654,\n",
              "  0.9594594836235046,\n",
              "  0.9721283912658691,\n",
              "  0.9780405163764954,\n",
              "  0.9915540814399719,\n",
              "  0.9983108043670654,\n",
              "  0.9991554021835327,\n",
              "  0.9966216087341309,\n",
              "  0.9923986196517944,\n",
              "  0.9957770109176636,\n",
              "  0.9983108043670654,\n",
              "  0.9974662065505981,\n",
              "  0.974662184715271,\n",
              "  0.9805743098258972],\n",
              " 'val_loss': [0.6443954706192017,\n",
              "  0.5902982950210571,\n",
              "  0.4899910092353821,\n",
              "  0.4132928252220154,\n",
              "  0.4538186490535736,\n",
              "  0.3917108178138733,\n",
              "  0.3225390315055847,\n",
              "  0.29928702116012573,\n",
              "  0.22986939549446106,\n",
              "  0.31842976808547974,\n",
              "  0.21978822350502014,\n",
              "  0.32433271408081055,\n",
              "  0.3286536931991577,\n",
              "  0.2917875349521637,\n",
              "  0.4097999930381775,\n",
              "  0.35457950830459595,\n",
              "  0.3722075819969177,\n",
              "  0.5505449175834656,\n",
              "  0.537952721118927,\n",
              "  0.32602256536483765],\n",
              " 'val_accuracy': [0.659375011920929,\n",
              "  0.7406250238418579,\n",
              "  0.7906249761581421,\n",
              "  0.8187500238418579,\n",
              "  0.824999988079071,\n",
              "  0.840624988079071,\n",
              "  0.893750011920929,\n",
              "  0.8968750238418579,\n",
              "  0.9281250238418579,\n",
              "  0.9125000238418579,\n",
              "  0.934374988079071,\n",
              "  0.9156249761581421,\n",
              "  0.934374988079071,\n",
              "  0.9375,\n",
              "  0.9125000238418579,\n",
              "  0.925000011920929,\n",
              "  0.921875,\n",
              "  0.8999999761581421,\n",
              "  0.840624988079071,\n",
              "  0.918749988079071]}"
            ]
          },
          "metadata": {},
          "execution_count": 31
        }
      ],
      "source": [
        "hist.history"
      ]
    },
    {
      "cell_type": "code",
      "execution_count": null,
      "metadata": {
        "colab": {
          "base_uri": "https://localhost:8080/",
          "height": 478
        },
        "id": "HaEfwixJgzm9",
        "outputId": "563a8b66-a621-47fe-9b4e-492a224bdb69"
      },
      "outputs": [
        {
          "output_type": "display_data",
          "data": {
            "text/plain": [
              "<Figure size 640x480 with 1 Axes>"
            ],
            "image/png": "[encoded data removed]"
          },
          "metadata": {}
        }
      ],
      "source": [
        "fig=plt.figure()\n",
        "plt.plot(hist.history['loss'],color='blue',label='loss')\n",
        "plt.plot(hist.history['val_loss'],color='red',label='val_loss')\n",
        "fig.suptitle('LOSS', fontsize=20)\n",
        "plt.legend()\n",
        "plt.show()"
      ]
    },
    {
      "cell_type": "code",
      "execution_count": null,
      "metadata": {
        "colab": {
          "base_uri": "https://localhost:8080/",
          "height": 478
        },
        "id": "Usuayi7lgzm-",
        "outputId": "b7eaad5a-4afa-4aad-bb96-1a4f69cfccd5"
      },
      "outputs": [
        {
          "output_type": "display_data",
          "data": {
            "text/plain": [
              "<Figure size 640x480 with 1 Axes>"
            ],
            "image/png": "[encoded data removed]"
          },
          "metadata": {}
        }
      ],
      "source": [
        "fig=plt.figure()\n",
        "plt.plot(hist.history['accuracy'],color='blue',label='accuracy')\n",
        "plt.plot(hist.history['val_accuracy'],color='red',label='val_accuracy')\n",
        "fig.suptitle('accuracy', fontsize=20)\n",
        "plt.legend()\n",
        "plt.show()"
      ]
    },
    {
      "cell_type": "markdown",
      "metadata": {
        "id": "j6E9dqGHgzm_"
      },
      "source": [
        "# Evaluate"
      ]
    },
    {
      "cell_type": "code",
      "execution_count": null,
      "metadata": {
        "id": "6Q9ZpqRNgznA"
      },
      "outputs": [],
      "source": [
        "from tensorflow.keras.metrics import Precision,Recall,BinaryAccuracy"
      ]
    },
    {
      "cell_type": "code",
      "execution_count": null,
      "metadata": {
        "id": "i70vPNqagznA"
      },
      "outputs": [],
      "source": [
        "pre = Precision()\n",
        "re= Recall()\n",
        "acc=BinaryAccuracy()"
      ]
    },
    {
      "cell_type": "code",
      "execution_count": null,
      "metadata": {
        "colab": {
          "base_uri": "https://localhost:8080/"
        },
        "id": "Pp1oki3hgznB",
        "outputId": "f2666cd1-1512-4a44-f7a2-7bb1ff08caa7"
      },
      "outputs": [
        {
          "output_type": "stream",
          "name": "stdout",
          "text": [
            "1/1 [==============================] - 1s 768ms/step\n",
            "1/1 [==============================] - 1s 643ms/step\n",
            "1/1 [==============================] - 1s 660ms/step\n",
            "1/1 [==============================] - 1s 599ms/step\n",
            "1/1 [==============================] - 1s 617ms/step\n"
          ]
        }
      ],
      "source": [
        "for batch in test.as_numpy_iterator():\n",
        "    x,y=batch\n",
        "    yhat=model.predict(x)\n",
        "    pre.update_state(y,yhat)\n",
        "    re.update_state(y,yhat)\n",
        "    acc.update_state(y,yhat)"
      ]
    },
    {
      "cell_type": "code",
      "execution_count": null,
      "metadata": {
        "colab": {
          "base_uri": "https://localhost:8080/"
        },
        "id": "ZdbaWBLIgznC",
        "outputId": "d2948c5f-2e45-4b03-e204-2e4b8ba91681"
      },
      "outputs": [
        {
          "output_type": "stream",
          "name": "stdout",
          "text": [
            "Precision: 0.9189189076423645 Recall: 0.8500000238418579  Accuracy : 0.887499988079071 \n"
          ]
        }
      ],
      "source": [
        "print(f'Precision: {pre.result()} Recall: {re.result()}  Accuracy : {acc.result()} ')"
      ]
    }
  ],
  "metadata": {
    "colab": {
      "provenance": [],
      "include_colab_link": true
    },
    "kernelspec": {
      "display_name": "Python 3",
      "language": "python",
      "name": "python3"
    },
    "language_info": {
      "codemirror_mode": {
        "name": "ipython",
        "version": 3
      },
      "file_extension": ".py",
      "mimetype": "text/x-python",
      "name": "python",
      "nbconvert_exporter": "python",
      "pygments_lexer": "ipython3",
      "version": "3.10.7"
    }
  },
  "nbformat": 4,
  "nbformat_minor": 0
}